{
 "cells": [
  {
   "cell_type": "code",
   "execution_count": 1,
   "metadata": {},
   "outputs": [],
   "source": [
    "class Graph:\n",
    "    def __init__(self):\n",
    "        self.vertList = {}\n",
    "        self.numVertices = 0\n",
    "\n",
    "    def addVertex(self,key): #adds a Vertex {'V1': {undeclared vertex}}\n",
    "        self.numVertices = self.numVertices + 1\n",
    "        newVertex = Vertex(key) #from Vertex class\n",
    "        self.vertList[key] = newVertex\n",
    "        return newVertex\n",
    "\n",
    "    def getVertex(self,n):\n",
    "        if n in self.vertList:\n",
    "            return self.vertList[n]\n",
    "        else:\n",
    "            return None\n",
    "\n",
    "    def __contains__(self,n):\n",
    "        return n in self.vertList\n",
    "\n",
    "    def addEdge(self,f,t,weight=0): #(f)rom one vertex(V1) (t)o one vertex(V5) with weight (e.g. 10)\n",
    "        if f not in self.vertList: #if vertex 'V1' does not exist \n",
    "            nv = self.addVertex(f)\n",
    "        if t not in self.vertList: #if other vertex 'V5' does not exist\n",
    "            nv = self.addVertex(t)\n",
    "        self.vertList[f].addNeighbor(self.vertList[t], weight) #adds values to {'V1': {'V5': 10}}\n",
    "\n",
    "    def getVertices(self): #returns all the keys (not values) of vertices dictionary (e.g. V1, V2)\n",
    "        return self.vertList.keys()\n",
    "\n",
    "    def __iter__(self): #returns all values of vertices dictionary\n",
    "        return iter(self.vertList.values())"
   ]
  },
  {
   "cell_type": "code",
   "execution_count": 45,
   "metadata": {},
   "outputs": [],
   "source": [
    "class Vertex:\n",
    "    def __init__(self, key):\n",
    "        self.id = key\n",
    "        self.connectedTo = {}\n",
    "    def addNeighbor(self, nbr, weight = 0):\n",
    "        self.connectedTo[nbr] = weight\n",
    "    def __str__(self):\n",
    "        return str(self.id) + ' connectedTo: ' + str([x.id for x in self.connectedTo])\n",
    "    def getWeight(self):\n",
    "        return self.connectedTo[nbr]\n",
    "    def getConnections(self):\n",
    "        return self.connectedTo.key()\n",
    "    def getId(self):\n",
    "        return self.id"
   ]
  },
  {
   "cell_type": "code",
   "execution_count": 2,
   "metadata": {},
   "outputs": [],
   "source": [
    "class Queue:\n",
    "    def __init__(self):\n",
    "        self.items = []\n",
    "\n",
    "    def isEmpty(self):\n",
    "        return self.items == []\n",
    "\n",
    "    def enqueue(self, item):\n",
    "        self.items.insert(0,item)\n",
    "\n",
    "    def dequeue(self):\n",
    "        return self.items.pop()\n",
    "\n",
    "    def size(self):\n",
    "        return len(self.items)"
   ]
  },
  {
   "cell_type": "code",
   "execution_count": 2,
   "metadata": {},
   "outputs": [
    {
     "ename": "NameError",
     "evalue": "name 'g' is not defined",
     "output_type": "error",
     "traceback": [
      "\u001b[0;31m---------------------------------------------------------------------------\u001b[0m",
      "\u001b[0;31mNameError\u001b[0m                                 Traceback (most recent call last)",
      "\u001b[0;32m<ipython-input-2-ba18af238dcb>\u001b[0m in \u001b[0;36m<module>\u001b[0;34m\u001b[0m\n\u001b[1;32m     21\u001b[0m     \u001b[0mprint\u001b[0m\u001b[0;34m(\u001b[0m\u001b[0mx\u001b[0m\u001b[0;34m.\u001b[0m\u001b[0mgetId\u001b[0m\u001b[0;34m(\u001b[0m\u001b[0;34m)\u001b[0m\u001b[0;34m)\u001b[0m\u001b[0;34m\u001b[0m\u001b[0;34m\u001b[0m\u001b[0m\n\u001b[1;32m     22\u001b[0m \u001b[0;34m\u001b[0m\u001b[0m\n\u001b[0;32m---> 23\u001b[0;31m \u001b[0mtraverse\u001b[0m\u001b[0;34m(\u001b[0m\u001b[0mg\u001b[0m\u001b[0;34m.\u001b[0m\u001b[0mgetVertex\u001b[0m\u001b[0;34m(\u001b[0m\u001b[0;34m'sage'\u001b[0m\u001b[0;34m)\u001b[0m\u001b[0;34m)\u001b[0m\u001b[0;34m\u001b[0m\u001b[0;34m\u001b[0m\u001b[0m\n\u001b[0m",
      "\u001b[0;31mNameError\u001b[0m: name 'g' is not defined"
     ]
    }
   ],
   "source": [
    "def bfs(g,start):\n",
    "    start.setDistance(0)\n",
    "    start.setPred(None)\n",
    "    vertQueue = Queue()\n",
    "    vertQueue.enqueue(start)\n",
    "    while (vertQueue.size() > 0):\n",
    "        currentVert = vertQueue.dequeue()\n",
    "    for nbr in currentVert.getConnections():\n",
    "        if (nbr.getColor() == 'white'):\n",
    "            nbr.setColor('gray')\n",
    "            nbr.setDistance(currentVert.getDistance() + 1)\n",
    "            nbr.setPred(currentVert)\n",
    "            vertQueue.enqueue(nbr)\n",
    "        currentVert.setColor('black')\n",
    "    \n",
    "def traverse(y):\n",
    "    x = y\n",
    "    while (x.getPred()):\n",
    "        print(x.getId())\n",
    "        x = x.getPred()\n",
    "    print(x.getId())\n",
    "\n",
    "traverse(g.getVertex('sage'))"
   ]
  },
  {
   "cell_type": "code",
   "execution_count": null,
   "metadata": {},
   "outputs": [],
   "source": [
    "def buildGraph(wordFile):\n",
    "    d = {}\n",
    "    g = Graph()\n",
    "    wfile = open(wordFile,'r')\n",
    "    # create buckets of words that differ by one letter\n",
    "    for line in wfile:\n",
    "        word = line[:-1]\n",
    "        for i in range(len(word)):\n",
    "            bucket = word[:i] + '_' + word[i+1:]\n",
    "            if bucket in d:\n",
    "                d[bucket].append(word)\n",
    "            else:\n",
    "                d[bucket] = [word]\n",
    "    # add vertices and edges for words in the same bucket\n",
    "    for bucket in d.keys():\n",
    "        for word1 in d[bucket]:\n",
    "            for word2 in d[bucket]:\n",
    "                if word1 != word2:\n",
    "                    g.addEdge(word1,word2)\n",
    "    return g"
   ]
  },
  {
   "cell_type": "code",
   "execution_count": null,
   "metadata": {},
   "outputs": [],
   "source": [
    "#DEPTH FIRST SEARCH \n",
    "\n",
    "class DFSGraph(Graph):\n",
    "    def __init__(self):\n",
    "        super().__init__()\n",
    "        self.time = 0\n",
    "\n",
    "    def dfs(self):\n",
    "        for aVertex in self:\n",
    "            aVertex.setColor('white')\n",
    "            aVertex.setPred(-1)\n",
    "        for aVertex in self:\n",
    "            if aVertex.getColor() == 'white':\n",
    "                self.dfsvisit(aVertex)\n",
    "\n",
    "    def dfsvisit(self,startVertex):\n",
    "        startVertex.setColor('gray')\n",
    "        self.time += 1\n",
    "        startVertex.setDiscovery(self.time)\n",
    "        for nextVertex in startVertex.getConnections(): #getConnections from Vector class\n",
    "            if nextVertex.getColor() == 'white':\n",
    "                nextVertex.setPred(startVertex)\n",
    "                self.dfsvisit(nextVertex)\n",
    "        startVertex.setColor('black')\n",
    "        self.time += 1\n",
    "        startVertex.setFinish(self.time)"
   ]
  },
  {
   "cell_type": "code",
   "execution_count": 48,
   "metadata": {},
   "outputs": [
    {
     "name": "stdout",
     "output_type": "stream",
     "text": [
      "1\n"
     ]
    },
    {
     "data": {
      "text/plain": [
       "{'V1': <__main__.Vertex at 0x10dd0a9e8>,\n",
       " 'V5': <__main__.Vertex at 0x10dd0eb70>}"
      ]
     },
     "execution_count": 48,
     "metadata": {},
     "output_type": "execute_result"
    }
   ],
   "source": [
    "class Abacus: \n",
    "    def __init__(self, color):\n",
    "        self.key = color \n",
    "        self.size = {}\n",
    "        \n",
    "    def abacus(self):\n",
    "        return self.key\n",
    "    \n",
    "    def addVertex(self, key):\n",
    "        newVertex = Vertex(key)\n",
    "        self.size[key] = newVertex\n",
    "        return newVertex\n",
    "    \n",
    "    def addEdge(self, fr, to, weight = 0 ):\n",
    "        self.size[fr].addNeighbor(self.size[to], weight)\n",
    "        return self.size\n",
    "    \n",
    "class Go(Abacus):\n",
    "    def __init__(self, color):\n",
    "        super().__init__(color)\n",
    "        self.time = 0 \n",
    "        \n",
    "    def Time(self):\n",
    "        self.time +=1 \n",
    "        return self.time\n",
    "    \n",
    "abacus = Go('bead')\n",
    "abacus.addVertex('V1')\n",
    "abacus.addVertex('V5')\n",
    "print(abacus.Time())\n",
    "abacus.addEdge('V1', 'V5', weight=9)\n",
    "\n"
   ]
  },
  {
   "cell_type": "code",
   "execution_count": 66,
   "metadata": {},
   "outputs": [
    {
     "name": "stdout",
     "output_type": "stream",
     "text": [
      "0.10000000000000009 0.10000000000000009\n",
      "0.10000000000000009 4.1\n",
      "-0.8999999999999999 1.1\n",
      "-0.8999999999999999 3.1\n",
      "2.1 0.10000000000000009\n",
      "2.1 4.1\n",
      "3.1 1.1\n",
      "3.1 3.1\n",
      "[(0.10000000000000009, 0.10000000000000009), (0.10000000000000009, 4.1), (2.1, 0.10000000000000009), (2.1, 4.1), (3.1, 1.1), (3.1, 3.1)]\n"
     ]
    }
   ],
   "source": [
    "def legalCoord(x,bdSize):\n",
    "    return x >= 0 and x < bdSize\n",
    "\n",
    "newMoves = []\n",
    "moveOffsets = [(-1,-2),(-1,2),(-2,-1),(-2,1),\n",
    "               ( 1,-2),( 1,2),( 2,-1),( 2,1)]\n",
    "\n",
    "for i in moveOffsets:\n",
    "    newX = 1.1 + i[0]\n",
    "    newY = 2.1 + i[1]\n",
    "    print(newX, newY)\n",
    "    \n",
    "    if legalCoord(newX, 64) and legalCoord(newY,64):\n",
    "        newMoves.append((newX,newY))\n",
    "print(newMoves)\n"
   ]
  },
  {
   "cell_type": "code",
   "execution_count": null,
   "metadata": {},
   "outputs": [],
   "source": [
    "def knightGraph(bdSize): #bdsize = 64?\n",
    "    ktGraph = Graph()\n",
    "    for row in range(bdSize):\n",
    "        for col in range(bdSize):\n",
    "            nodeId = posToNodeId(row,col,bdSize) #(21)\n",
    "            newPositions = genLegalMoves(row,col,bdSize)\n",
    "            for e in newPositions:\n",
    "                nid = posToNodeId(e[0],e[1],bdSize)\n",
    "                ktGraph.addEdge(nodeId,nid)\n",
    "    return ktGraph\n",
    "\n",
    "def posToNodeId(row, column, board_size): #4 (1st row), 1 (1st column), 5. Convert (x,y) to value\n",
    "    return (row * board_size) + column #((4*5)+1)\n",
    "\n",
    "def genLegalMoves(x,y,bdSize): #generate 8 possible moves that a knight can take. (x,y) is where knight is located\n",
    "    newMoves = []\n",
    "    moveOffsets = [(-1,-2),(-1,2),(-2,-1),(-2,1),\n",
    "                   ( 1,-2),( 1,2),( 2,-1),( 2,1)]\n",
    "    for i in moveOffsets:\n",
    "        newX = x + i[0]\n",
    "        newY = y + i[1]\n",
    "        if legalCoord(newX,bdSize) and legalCoord(newY,bdSize):\n",
    "            newMoves.append((newX,newY))\n",
    "    return newMoves\n",
    "\n",
    "def legalCoord(x,bdSize):\n",
    "    return x >= 0 and x < bdSize\n"
   ]
  }
 ],
 "metadata": {
  "kernelspec": {
   "display_name": "Python 3",
   "language": "python",
   "name": "python3"
  },
  "language_info": {
   "codemirror_mode": {
    "name": "ipython",
    "version": 3
   },
   "file_extension": ".py",
   "mimetype": "text/x-python",
   "name": "python",
   "nbconvert_exporter": "python",
   "pygments_lexer": "ipython3",
   "version": "3.7.3"
  }
 },
 "nbformat": 4,
 "nbformat_minor": 4
}
