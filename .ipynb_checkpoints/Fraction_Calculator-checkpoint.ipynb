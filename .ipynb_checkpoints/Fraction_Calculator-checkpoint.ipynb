{
 "cells": [
  {
   "cell_type": "code",
   "execution_count": 1,
   "metadata": {},
   "outputs": [
    {
     "name": "stdout",
     "output_type": "stream",
     "text": [
      "1\n",
      "10\n",
      "1\n",
      "101\n",
      "1\n",
      "10\n",
      "1\n",
      "1010\n"
     ]
    }
   ],
   "source": [
    "def toStr(n,base):\n",
    "   convertString = \"0123456789ABCDEF\"\n",
    "   if n < base:\n",
    "      return convertString[n]\n",
    "   else:\n",
    "      print(toStr(n//base,base))\n",
    "      return toStr(n//base,base) + convertString[n%base]\n",
    "\n",
    "print(toStr(10,2))\n"
   ]
  },
  {
   "cell_type": "code",
   "execution_count": 2,
   "metadata": {},
   "outputs": [
    {
     "data": {
      "text/plain": [
       "10"
      ]
     },
     "execution_count": 2,
     "metadata": {},
     "output_type": "execute_result"
    }
   ],
   "source": [
    "def gcd(m,n):\n",
    "    while m%n != 0:\n",
    "        oldm = m\n",
    "        oldn = n\n",
    "\n",
    "        m = oldn\n",
    "        n = oldm%oldn\n",
    "    return n\n",
    "\n",
    "gcd(10, 90)"
   ]
  },
  {
   "cell_type": "code",
   "execution_count": 3,
   "metadata": {},
   "outputs": [],
   "source": [
    "def gcd(m,n):\n",
    "    while m%n != 0:\n",
    "        oldm = m\n",
    "        oldn = n\n",
    "\n",
    "        m = oldn\n",
    "        n = oldm%oldn\n",
    "    return n\n",
    "\n",
    "class Fraction:\n",
    "    top: int\n",
    "    bottom: int\n",
    "    def __init__(self, top: int = None, bottom: int = None):\n",
    "        if not isinstance(top, int) or not isinstance(bottom, int):\n",
    "            raise TypeError(\"Numerator and denominator must be set to an integer\")\n",
    "        common = gcd(top,bottom)\n",
    "        self.num = top//common\n",
    "        self.den = bottom//common\n",
    "            \n",
    "    def __repr__(self):\n",
    "        return {self.num/self.den}\n",
    "    def __str__(self):\n",
    "        return str(self.num)+\"/\"+str(self.den)\n",
    "\n",
    "    def show(self):\n",
    "         print(self.num,\"/\",self.den)\n",
    "\n",
    "    def __add__(self,otherfraction):\n",
    "        newnum = self.num*otherfraction.den + \\\n",
    "                      self.den*otherfraction.num\n",
    "        newden = self.den * otherfraction.den\n",
    "        common = gcd(newnum,newden)\n",
    "        return Fraction(newnum//common,newden//common)\n",
    "    def __sub__(self, otherfraction):\n",
    "        newnum = self.num*otherfraction.den - \\\n",
    "                      self.den*otherfraction.num\n",
    "        newden = self.den * otherfraction.den\n",
    "        common = gcd(newnum,newden)\n",
    "        return Fraction(newnum//common,newden//common)\n",
    "   # def __radd__(self, otherfraction):\n",
    "        \n",
    "    def __mul__(self, otherfraction):\n",
    "        newnum = self.num*otherfraction.num\n",
    "        newden = self.den*otherfraction.den\n",
    "        common = gcd(newnum, newden)\n",
    "        return Fraction(newnum//common, newden//common)\n",
    "    def __truediv__(self,otherfraction):\n",
    "        newnum = self.num*otherfraction.den\n",
    "        newden = self.den * otherfraction.num\n",
    "        common = gcd(newnum,newden)\n",
    "        return Fraction(newnum//common, newden//common)\n",
    "    def __eq__(self, other):\n",
    "        firstnum = self.num * other.den\n",
    "        secondnum = other.num * self.den\n",
    "\n",
    "        return firstnum == secondnum\n",
    "    \n",
    "    def __lt__(self, other):\n",
    "        firstnum = self.num*other.den\n",
    "        firstden = self.den*other.num\n",
    "        secondnum= other.num * self.den\n",
    "        secondden = other.den * self.num\n",
    "        #return Fraction(firstnum//firstden, secondnum//secondden)\n",
    "        if firstnum//firstden < secondnum//secondden: \n",
    "            return True\n",
    "        else:\n",
    "            return False\n",
    "        \n",
    "    def __gt__(self, other):\n",
    "        firstnum = self.num*other.den\n",
    "        firstden = self.den*other.num\n",
    "        secondnum= other.num * self.den\n",
    "        secondden = other.den * self.num\n",
    "        #return Fraction(firstnum//firstden, secondnum//secondden)\n",
    "        if firstnum//firstden > secondnum//secondden: \n",
    "            return True\n",
    "        else:\n",
    "            return False\n",
    "    def __ge__(self, other):\n",
    "        firstnum = self.num*other.den\n",
    "        firstden = self.den*other.num\n",
    "        secondnum= other.num * self.den\n",
    "        secondden = other.den * self.num\n",
    "        #return Fraction(firstnum//firstden, secondnum//secondden)\n",
    "        if firstnum//firstden >= secondnum//secondden: \n",
    "            return True\n",
    "        else:\n",
    "            return False\n",
    "    def __le__(self, other):\n",
    "        firstnum = self.num*other.den\n",
    "        firstden = self.den*other.num\n",
    "        secondnum= other.num * self.den\n",
    "        secondden = other.den * self.num\n",
    "        #return Fraction(firstnum//firstden, secondnum//secondden)\n",
    "        if firstnum//firstden <= secondnum//secondden: \n",
    "            return True\n",
    "        else:\n",
    "            return False\n",
    "    def __ne__(self, other):\n",
    "        firstnum = self.num*other.den\n",
    "        firstden = self.den*other.num\n",
    "        secondnum= other.num * self.den\n",
    "        secondden = other.den * self.num\n",
    "        #return Fraction(firstnum//firstden, secondnum//secondden)\n",
    "        if firstnum//firstden != secondnum//secondden: \n",
    "            return True\n",
    "        else:\n",
    "            return False"
   ]
  },
  {
   "cell_type": "code",
   "execution_count": 4,
   "metadata": {},
   "outputs": [
    {
     "name": "stdout",
     "output_type": "stream",
     "text": [
      "2/3\n",
      "-1/7\n",
      "{-0.14285714285714285}\n",
      "11/21\n"
     ]
    }
   ],
   "source": [
    "number1 = Fraction(10, 15)\n",
    "print(number1)\n",
    "\n",
    "number2 = Fraction(1, -7)\n",
    "print(number2)\n",
    "print(number2.__repr__())\n",
    "\n",
    "y = number1 + number2\n",
    "print(y)"
   ]
  },
  {
   "cell_type": "code",
   "execution_count": 5,
   "metadata": {},
   "outputs": [
    {
     "name": "stdout",
     "output_type": "stream",
     "text": [
      "19/15\n",
      "-1/15\n",
      "2/5\n",
      "1/1\n",
      "False\n"
     ]
    }
   ],
   "source": [
    "number1 = Fraction(3, 5)\n",
    "number2 = Fraction(2,3)\n",
    "y = number1 + number2\n",
    "print(y)\n",
    "\n",
    "y2 = number1 - number2\n",
    "print(y2)\n",
    "\n",
    "w = number1*number2\n",
    "print(w)\n",
    "\n",
    "number1 = Fraction(1, 2)\n",
    "number2 = Fraction(1,2)\n",
    "x = number1/number2\n",
    "print(x)\n",
    "\n",
    "x = number1 > number2\n",
    "print(x)"
   ]
  },
  {
   "cell_type": "code",
   "execution_count": 6,
   "metadata": {},
   "outputs": [],
   "source": [
    "class Person:\n",
    "    name = \"\"\n",
    "    age = 0\n",
    "\n",
    "    def __init__(self, personName, personAge):\n",
    "        self.name = personName\n",
    "        self.age = personAge\n",
    "        \n",
    "    def __repr__(self):\n",
    "        return {'name':self.name, 'age':self.age}\n",
    "    def __repr__(self): #can return any python expression-like string, dict, lists. If this is missing no fallback\n",
    "        return '{name:' + self.name+ ',age:'+str(self.age)+'}'\n",
    "\n",
    "    def __str__(self): #can only return strings. If this is missing it return repr as fallback.\n",
    "        return 'Person(name='+self.name+', age='+str(self.age)+ ')'"
   ]
  },
  {
   "cell_type": "code",
   "execution_count": 7,
   "metadata": {},
   "outputs": [
    {
     "name": "stdout",
     "output_type": "stream",
     "text": [
      "Person(name=Pankaj, age=47)\n",
      "Person(name=Pankaj, age=47)\n",
      "{name:Pankaj,age:47}\n",
      "{name:Pankaj,age:47}\n"
     ]
    }
   ],
   "source": [
    "person = Person('Pankaj', 47)\n",
    "print(person)\n",
    "print(person.__str__())\n",
    "print(person.__repr__())\n",
    "print(repr(person))"
   ]
  },
  {
   "cell_type": "code",
   "execution_count": 8,
   "metadata": {},
   "outputs": [],
   "source": [
    "class LogicGate:\n",
    "\n",
    "    def __init__(self,n):\n",
    "        self.label = n\n",
    "        self.output = None\n",
    "\n",
    "    def getLabel(self):\n",
    "        return self.label\n",
    "\n",
    "    def getOutput(self):\n",
    "        self.output = self.performGateLogic()\n",
    "        return self.output"
   ]
  },
  {
   "cell_type": "code",
   "execution_count": 32,
   "metadata": {},
   "outputs": [],
   "source": [
    "class BinaryGate(LogicGate):\n",
    "\n",
    "    def __init__(self,n):\n",
    "        LogicGate.__init__(self,n)\n",
    "\n",
    "        self.pinA = None\n",
    "        self.pinB = None\n",
    "\n",
    "    #def getPinA(self):\n",
    "    #    return int(input(\"Enter Pin A input for gate \"+ self.getLabel()+\"-->\"))\n",
    "\n",
    "    #def getPinB(self):\n",
    "    #    return int(input(\"Enter Pin B input for gate \"+ self.getLabel()+\"-->\"))\n",
    "    \n",
    "    def getPinA(self):\n",
    "        if self.pinA == None:\n",
    "            return int(input(\"Enter Pin A input for gate \"+self.getLabel()+\"-->\"))\n",
    "        else:\n",
    "            return self.pinA.getFrom().getOutput()\n",
    "\n",
    "    def getPinB(self):\n",
    "        if self.pinB == None:\n",
    "            return int(input(\"Enter Pin B input for gate \"+self.getLabel()+\"-->\"))\n",
    "        else:\n",
    "            return self.pinB.getFrom().getOutput()\n",
    "\n",
    "    def setNextPin(self,source):\n",
    "        if self.pinA == None:\n",
    "            self.pinA = source\n",
    "        else:\n",
    "            if self.pinB == None:\n",
    "                self.pinB = source\n",
    "            else:\n",
    "                print(\"Cannot Connect: NO EMPTY PINS on this gate\")\n",
    "    \n",
    "class UnaryGate(LogicGate):\n",
    "\n",
    "    def __init__(self,n):\n",
    "        LogicGate.__init__(self,n)\n",
    "        self.pin = None\n",
    "\n",
    "    def getPin(self):\n",
    "        #return int(input(\"Enter Pin input for gate \"+ self.getLabel()+\"-->\"))\n",
    "        if self.pin == None:\n",
    "            return input(\"Enter Pin input for gate \" + self.getLabel()+\"-->\")\n",
    "        else:\n",
    "            return self.pin.getFrom().getOutput()\n",
    "    \n",
    "    def setNextPin(self,source):\n",
    "        if self.pin == None:\n",
    "            self.pin = source\n",
    "        else:\n",
    "            raise RuntimeError(\"Error: NO EMPTY PINS\")\n",
    "        \n",
    "    "
   ]
  },
  {
   "cell_type": "code",
   "execution_count": 45,
   "metadata": {},
   "outputs": [],
   "source": [
    "class AndGate(BinaryGate):\n",
    "\n",
    "    def __init__(self,n):\n",
    "        super(AndGate,self).__init__(n)\n",
    "\n",
    "    def performGateLogic(self):\n",
    "\n",
    "        a = self.getPinA()\n",
    "        b = self.getPinB()\n",
    "        if a==1 and b==1:\n",
    "            return 1\n",
    "        else:\n",
    "            return 0\n",
    "        \n",
    "class OrGate(BinaryGate):\n",
    "    def __init__(self, n):\n",
    "        super(OrGate,self).__init__(n)\n",
    "    def performGateLogic(self):\n",
    "        a = self.getPinA()\n",
    "        b = self.getPinB()\n",
    "        if a==1 or b==1:\n",
    "            return 1\n",
    "        else:\n",
    "            return 0\n",
    "        \n",
    "class NotGate(UnaryGate):\n",
    "    def __init__(self,n):\n",
    "        super(NotGate,self).__init__(n)\n",
    "    def performGateLogic(self):\n",
    "        if self.getPin()==1:\n",
    "            return 1\n",
    "        else:\n",
    "            return 0\n",
    "\n",
    "class NorGate(BinaryGate):\n",
    "    def __init__(self, n):\n",
    "        super(NorGate, self).__init__(n)\n",
    "    def performGateLogic(self):\n",
    "        if self.getPinA()== 0 and self.getPinB()==0:\n",
    "            return 1 \n",
    "        else:\n",
    "            return 0 \n",
    "        \n",
    "class NandGate(BinaryGate):\n",
    "    def __init__(self, n):\n",
    "        super(NandGate,self).__init__(n)\n",
    "    def performGateLogic(self):\n",
    "        if self.getPinA()== 1 and self.getPinB()==1:\n",
    "            return 0 \n",
    "        else:\n",
    "            return 1\n",
    "\n",
    "class XorGate(BinaryGate):\n",
    "    def __init__(self, n):\n",
    "        super(XorGate,self).__init__(n)\n",
    "    def performGateLogic(self):\n",
    "        a = self.getPinA()\n",
    "        b = self.getPinB()\n",
    "        if a==b==1 or a==b==0:\n",
    "            return 0 \n",
    "        else:\n",
    "            return 1"
   ]
  },
  {
   "cell_type": "code",
   "execution_count": 27,
   "metadata": {},
   "outputs": [
    {
     "name": "stdout",
     "output_type": "stream",
     "text": [
      "Enter Pin A input for gate G1-->0\n",
      "Enter Pin B input for gate G1-->0\n"
     ]
    },
    {
     "data": {
      "text/plain": [
       "0"
      ]
     },
     "execution_count": 27,
     "metadata": {},
     "output_type": "execute_result"
    }
   ],
   "source": [
    "g1 = AndGate(\"G1\")\n",
    "g1.getOutput()"
   ]
  },
  {
   "cell_type": "code",
   "execution_count": 16,
   "metadata": {},
   "outputs": [
    {
     "name": "stdout",
     "output_type": "stream",
     "text": [
      "Enter Pin A input for gate G2-->1\n",
      "Enter Pin B input for gate G2-->0\n"
     ]
    },
    {
     "data": {
      "text/plain": [
       "1"
      ]
     },
     "execution_count": 16,
     "metadata": {},
     "output_type": "execute_result"
    }
   ],
   "source": [
    "g2 = OrGate(\"G2\")\n",
    "g2.getOutput()"
   ]
  },
  {
   "cell_type": "code",
   "execution_count": 22,
   "metadata": {},
   "outputs": [
    {
     "name": "stdout",
     "output_type": "stream",
     "text": [
      "Enter Pin input for gate G3-->1\n"
     ]
    },
    {
     "data": {
      "text/plain": [
       "1"
      ]
     },
     "execution_count": 22,
     "metadata": {},
     "output_type": "execute_result"
    }
   ],
   "source": [
    "g3 = NotGate(\"G3\")\n",
    "g3.getOutput()"
   ]
  },
  {
   "cell_type": "code",
   "execution_count": 31,
   "metadata": {},
   "outputs": [],
   "source": [
    "class Connector:\n",
    "\n",
    "    def __init__(self, fgate, tgate):\n",
    "        self.fromgate = fgate\n",
    "        self.togate = tgate\n",
    "\n",
    "        tgate.setNextPin(self)\n",
    "\n",
    "    def getFrom(self):\n",
    "        return self.fromgate\n",
    "\n",
    "    def getTo(self):\n",
    "        return self.togate"
   ]
  },
  {
   "cell_type": "code",
   "execution_count": 46,
   "metadata": {},
   "outputs": [
    {
     "name": "stdout",
     "output_type": "stream",
     "text": [
      "Enter Pin A input for gate G1-->1\n",
      "Enter Pin B input for gate G1-->1\n",
      "Enter Pin A input for gate G2-->0\n",
      "Enter Pin B input for gate G2-->0\n",
      "Enter Pin B input for gate G4-->0\n",
      "1\n"
     ]
    }
   ],
   "source": [
    "g1 = AndGate(\"G1\")\n",
    "g2 = AndGate(\"G2\")\n",
    "g3 = OrGate(\"G3\")\n",
    "g4 = XorGate(\"G4\")\n",
    "c1 = Connector(g1, g3)\n",
    "c2 = Connector(g2, g3)\n",
    "c3 = Connector(g3, g4)\n",
    "print(g4.getOutput())"
   ]
  },
  {
   "cell_type": "code",
   "execution_count": null,
   "metadata": {},
   "outputs": [],
   "source": [
    "g1 = XorGate(\"G1\")\n",
    "#g2 = XorGate(\"G2\")\n",
    "g3 = AndGate(\"G3\")\n",
    "c1 = Connector(g1, g3)\n",
    "#c2 = Connector(g2, g3)"
   ]
  }
 ],
 "metadata": {
  "kernelspec": {
   "display_name": "Python 3",
   "language": "python",
   "name": "python3"
  },
  "language_info": {
   "codemirror_mode": {
    "name": "ipython",
    "version": 3
   },
   "file_extension": ".py",
   "mimetype": "text/x-python",
   "name": "python",
   "nbconvert_exporter": "python",
   "pygments_lexer": "ipython3",
   "version": "3.7.3"
  }
 },
 "nbformat": 4,
 "nbformat_minor": 2
}
