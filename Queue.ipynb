{
 "cells": [
  {
   "cell_type": "code",
   "execution_count": 42,
   "metadata": {},
   "outputs": [],
   "source": [
    "class Queue:\n",
    "    def __init__(self):\n",
    "        self.items = []\n",
    "\n",
    "    def isEmpty(self):\n",
    "        return self.items == []\n",
    "\n",
    "    def enqueue(self, item):\n",
    "        self.items.insert(0,item)\n",
    "\n",
    "    def dequeue(self):\n",
    "        return self.items.pop()\n",
    "\n",
    "    def size(self):\n",
    "        return len(self.items)\n"
   ]
  },
  {
   "cell_type": "code",
   "execution_count": 43,
   "metadata": {},
   "outputs": [
    {
     "name": "stdout",
     "output_type": "stream",
     "text": [
      "Taking Out Last Person:  ['Marcus', 'Juan', 'Chris', 'Paste']\n",
      "Putting Last Person to Front:  ['Brad', 'Marcus', 'Juan', 'Chris', 'Paste']\n",
      "Taking Out Last Person:  ['Brad', 'Marcus', 'Juan', 'Chris']\n",
      "Putting Last Person to Front:  ['Paste', 'Brad', 'Marcus', 'Juan', 'Chris']\n"
     ]
    }
   ],
   "source": [
    "#Hot Potato\n",
    "potato = Queue()\n",
    "\n",
    "for i in ['Brad', 'Paste', 'Chris', 'Juan', 'Marcus']:\n",
    "    potato.enqueue(i)\n",
    "#print(potato.items)  ['Marcus', 'Juan', 'Chris', 'Paste', 'Brad']\n",
    "\n",
    "for i in range(2):\n",
    "    leftout= potato.dequeue()\n",
    "    print(\"Taking Out Last Person: \", potato.items)\n",
    "    potato.enqueue(leftout)\n",
    "    print(\"Putting Last Person to Front: \", potato.items)\n"
   ]
  },
  {
   "cell_type": "code",
   "execution_count": 44,
   "metadata": {},
   "outputs": [],
   "source": [
    "def HotPotato(list, number):\n",
    "    potato = Queue()\n",
    "    for i in list:\n",
    "        potato.enqueue(i)\n",
    "        #print(potato.items)  ['Marcus', 'Juan', 'Chris', 'Paste', 'Brad']\n",
    "   # while potato.size() > 1:\n",
    "    for i in range(number):\n",
    "            leftout= potato.dequeue()\n",
    "            potato.enqueue(leftout)\n",
    "    return potato.items"
   ]
  },
  {
   "cell_type": "code",
   "execution_count": 45,
   "metadata": {},
   "outputs": [
    {
     "name": "stdout",
     "output_type": "stream",
     "text": [
      "J\n",
      "o\n",
      "s\n",
      "e\n",
      "p\n",
      "h\n",
      "['Juan', 'Jacob', 'Patrick']\n"
     ]
    }
   ],
   "source": [
    "import random\n",
    "\n",
    "random.randrange(1,21)\n",
    "\n",
    "for i in random.choice(['Juan', 'Joseph', 'Erol']):\n",
    "    print(i)\n",
    "    \n",
    "lists =['Juan', 'Jacob', 'Patrick']     \n",
    "random.shuffle(lists)\n",
    "print(lists)"
   ]
  },
  {
   "cell_type": "code",
   "execution_count": null,
   "metadata": {},
   "outputs": [],
   "source": [
    "#Modify the Hot Potato simulation to allow for a randomly chosen counting value \n",
    "#so that each pass is not predictable from the previous one.\n",
    "def HotPotato(listy, number):\n",
    "    potato = Queue()\n",
    "    random.shuffle(listy)\n",
    "    #print(listy)\n",
    "    for i in listy:\n",
    "        potato.enqueue(i)\n",
    "        #print(potato.items)  ['Marcus', 'Juan', 'Chris', 'Paste', 'Brad']\n",
    "    while potato.size() > 1:\n",
    "        for i in range(number):\n",
    "            leftout= potato.dequeue()\n",
    "            potato.enqueue(leftout)  \n",
    "    return potato.items\n",
    "\n",
    "HotPotato(['Juan', 'Jacob', 'Patrick'], 1)\n"
   ]
  },
  {
   "cell_type": "code",
   "execution_count": 1,
   "metadata": {},
   "outputs": [],
   "source": [
    "class Printer:\n",
    "    def __init__(self, ppm):\n",
    "        self.pagerate= ppm\n",
    "        self.currentTask= None\n",
    "        self.timeRemaining = 0\n",
    "    def __repr__(self):\n",
    "        return \"Pages: \"+ str(self.pagerate)\n",
    "    def __str__(self):\n",
    "        return \"Pages: \"+ str(self.pagerate)\n",
    "    def tick(self):\n",
    "        if self.currentTask != None:\n",
    "            self.timeRemaining = self.timeRemaining - 1\n",
    "            if self.timeRemaining <= 0:\n",
    "                self.currentTask = None\n",
    "\n",
    "    def busy(self):\n",
    "        if self.currentTask != None:\n",
    "            return True\n",
    "        else:\n",
    "            return False\n",
    "\n",
    "    def startNext(self,newtask):\n",
    "        self.currentTask = newtask\n",
    "        self.timeRemaining = newtask.getPages() * 60/self.pagerate\n",
    "printer1 = Printer(20)\n",
    "print(printer1)"
   ]
  },
  {
   "cell_type": "code",
   "execution_count": 3,
   "metadata": {},
   "outputs": [],
   "source": [
    "import random\n",
    "\n",
    "class Task:\n",
    "    def __init__(self,time):\n",
    "        self.timestamp = time\n",
    "        self.pages = random.randrange(1,21)\n",
    "\n",
    "    def getStamp(self):\n",
    "        return self.timestamp\n",
    "\n",
    "    def getPages(self):\n",
    "        return self.pages\n",
    "\n",
    "    def waitTime(self, currenttime):\n",
    "        return currenttime - self.timestamp"
   ]
  },
  {
   "cell_type": "code",
   "execution_count": 10,
   "metadata": {},
   "outputs": [
    {
     "name": "stdout",
     "output_type": "stream",
     "text": [
      "Average Wait 18.68 secs 1 tasks remaining.\n",
      "Average Wait 129.05 secs 1 tasks remaining.\n",
      "Average Wait 50.87 secs 0 tasks remaining.\n",
      "Average Wait 101.68 secs 0 tasks remaining.\n",
      "Average Wait 29.33 secs 0 tasks remaining.\n",
      "Average Wait 89.95 secs 0 tasks remaining.\n",
      "Average Wait 301.90 secs 0 tasks remaining.\n",
      "Average Wait 229.05 secs 0 tasks remaining.\n",
      "Average Wait 192.28 secs 0 tasks remaining.\n",
      "Average Wait 64.83 secs 1 tasks remaining.\n"
     ]
    }
   ],
   "source": [
    "import random\n",
    "\n",
    "def simulation(numSeconds, pagesPerMinute):\n",
    "\n",
    "    labprinter = Printer(pagesPerMinute)\n",
    "    printQueue = Queue()\n",
    "    waitingtimes = []\n",
    "\n",
    "    for currentSecond in range(numSeconds):\n",
    "        if newPrintTask():\n",
    "            task = Task(currentSecond)\n",
    "            printQueue.enqueue(task)\n",
    "        if (not labprinter.busy()) and (not printQueue.isEmpty()):\n",
    "            nexttask = printQueue.dequeue()\n",
    "            waitingtimes.append(nexttask.waitTime(currentSecond))\n",
    "            labprinter.startNext(nexttask)\n",
    "\n",
    "        labprinter.tick()\n",
    "\n",
    "    averageWait=sum(waitingtimes)/len(waitingtimes)\n",
    "    print(f\"Average Wait {averageWait:.2f} secs {printQueue.size()} tasks remaining.\")\n",
    "\n",
    "def newPrintTask():\n",
    "    num = random.randrange(1,181)\n",
    "    if num == 180:\n",
    "        return True\n",
    "    else:\n",
    "        return False\n",
    "\n",
    "for i in range(10):\n",
    "    simulation(3600,5)"
   ]
  },
  {
   "cell_type": "code",
   "execution_count": null,
   "metadata": {},
   "outputs": [],
   "source": []
  }
 ],
 "metadata": {
  "kernelspec": {
   "display_name": "Python 3",
   "language": "python",
   "name": "python3"
  },
  "language_info": {
   "codemirror_mode": {
    "name": "ipython",
    "version": 3
   },
   "file_extension": ".py",
   "mimetype": "text/x-python",
   "name": "python",
   "nbconvert_exporter": "python",
   "pygments_lexer": "ipython3",
   "version": "3.7.3"
  }
 },
 "nbformat": 4,
 "nbformat_minor": 4
}
