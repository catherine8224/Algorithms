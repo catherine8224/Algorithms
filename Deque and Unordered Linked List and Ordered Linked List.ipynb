{
 "cells": [
  {
   "cell_type": "code",
   "execution_count": 3,
   "metadata": {},
   "outputs": [],
   "source": [
    "class Deque:\n",
    "    def __init__(self):\n",
    "        self.items = []\n",
    "        \n",
    "    def isEmpty(self):\n",
    "        return self.items == []\n",
    "    \n",
    "    def addRear(self, item):\n",
    "        self.items.insert(0, item)\n",
    "        \n",
    "    def addFront(self, item):\n",
    "        return self.items.append(item)\n",
    "    \n",
    "    def removeRear(self):\n",
    "        return self.items.pop(0)\n",
    "    \n",
    "    def removeFront(self):\n",
    "        return self.items.pop()\n",
    "    \n",
    "    def size(self):\n",
    "        return len(self.items)"
   ]
  },
  {
   "cell_type": "code",
   "execution_count": 41,
   "metadata": {},
   "outputs": [
    {
     "name": "stdout",
     "output_type": "stream",
     "text": [
      "['matcha', 'milk', 'lambda']\n",
      "['milk', 'lambda']\n",
      "2\n"
     ]
    }
   ],
   "source": [
    "deque = Deque()\n",
    "deque.addRear(\"matcha\")\n",
    "deque.addFront(\"milk\")\n",
    "deque.addFront(\"lambda\")\n",
    "print(deque.items)\n",
    "deque.removeRear()\n",
    "print(deque.items)\n",
    "print(deque.size())"
   ]
  },
  {
   "cell_type": "code",
   "execution_count": 33,
   "metadata": {},
   "outputs": [
    {
     "name": "stdout",
     "output_type": "stream",
     "text": [
      "['item', 1, 2, 3]\n",
      "['item', 1, 2, 3, 'matcha']\n"
     ]
    }
   ],
   "source": [
    "numbers = [1,2,3]\n",
    "numbers.insert(0, 'item')\n",
    "print(numbers)\n",
    "\n",
    "numbers.append('matcha')\n",
    "print(numbers)"
   ]
  },
  {
   "cell_type": "code",
   "execution_count": 57,
   "metadata": {},
   "outputs": [
    {
     "name": "stdout",
     "output_type": "stream",
     "text": [
      "True\n"
     ]
    }
   ],
   "source": [
    "palindrome = 'radar'\n",
    "chardeque = Deque()\n",
    "for letter in palindrome: \n",
    "    chardeque.addRear(letter)\n",
    "#print(chardeque.items)\n",
    "size = chardeque.size()//2\n",
    "#count = 0 \n",
    "stillEqual = True\n",
    "for i in range(size):\n",
    "    if chardeque.removeRear() != chardeque.removeFront():\n",
    "        #count += 1\n",
    "    #else:\n",
    "        #count = 0\n",
    "        stillEqual=False\n",
    "# if size == count:\n",
    "#     print(f\"{palindrome} is a palindrome!\")\n",
    "# else:\n",
    "#     print(f\"{palindrome} is not a palindrome!\")\n",
    "print(stillEqual)"
   ]
  },
  {
   "cell_type": "code",
   "execution_count": 69,
   "metadata": {},
   "outputs": [
    {
     "ename": "TypeError",
     "evalue": "'str' object cannot be interpreted as an integer",
     "output_type": "error",
     "traceback": [
      "\u001b[0;31m---------------------------------------------------------------------------\u001b[0m",
      "\u001b[0;31mTypeError\u001b[0m                                 Traceback (most recent call last)",
      "\u001b[0;32m<ipython-input-69-31f6ce290dbd>\u001b[0m in \u001b[0;36m<module>\u001b[0;34m\u001b[0m\n\u001b[1;32m     12\u001b[0m \u001b[0;32mfor\u001b[0m \u001b[0mi\u001b[0m \u001b[0;32min\u001b[0m \u001b[0mchardeque\u001b[0m\u001b[0;34m.\u001b[0m\u001b[0mitems\u001b[0m\u001b[0;34m:\u001b[0m\u001b[0;34m\u001b[0m\u001b[0;34m\u001b[0m\u001b[0m\n\u001b[1;32m     13\u001b[0m     \u001b[0;32mif\u001b[0m \u001b[0mi\u001b[0m \u001b[0;34m==\u001b[0m \u001b[0;34m\" \"\u001b[0m\u001b[0;34m:\u001b[0m\u001b[0;34m\u001b[0m\u001b[0;34m\u001b[0m\u001b[0m\n\u001b[0;32m---> 14\u001b[0;31m         \u001b[0mchardeque\u001b[0m\u001b[0;34m.\u001b[0m\u001b[0mitems\u001b[0m\u001b[0;34m.\u001b[0m\u001b[0mpop\u001b[0m\u001b[0;34m(\u001b[0m\u001b[0mi\u001b[0m\u001b[0;34m)\u001b[0m\u001b[0;34m\u001b[0m\u001b[0;34m\u001b[0m\u001b[0m\n\u001b[0m\u001b[1;32m     15\u001b[0m \u001b[0;34m\u001b[0m\u001b[0m\n\u001b[1;32m     16\u001b[0m \u001b[0mchardeque\u001b[0m\u001b[0;34m.\u001b[0m\u001b[0mitems\u001b[0m\u001b[0;34m\u001b[0m\u001b[0;34m\u001b[0m\u001b[0m\n",
      "\u001b[0;31mTypeError\u001b[0m: 'str' object cannot be interpreted as an integer"
     ]
    }
   ],
   "source": [
    "palindrome = 'I PREFER PI'\n",
    "\n",
    "# for letter in palindrome:\n",
    "#     if letter == \" \":\n",
    "#         palindrome = palindrome.replace(letter, \"\")\n",
    "# print(palindrome)\n",
    "\n",
    "\n",
    "chardeque = Deque()\n",
    "for i in palindrome:\n",
    "    chardeque.addRear(i)\n",
    "for i in chardeque.items: \n",
    "    if i == \" \":\n",
    "        chardeque.items.pop(i)\n",
    "        \n",
    "chardeque.items"
   ]
  },
  {
   "cell_type": "code",
   "execution_count": 59,
   "metadata": {},
   "outputs": [
    {
     "data": {
      "text/plain": [
       "True"
      ]
     },
     "execution_count": 59,
     "metadata": {},
     "output_type": "execute_result"
    }
   ],
   "source": [
    "#palindrome checker\n",
    "def palchecker(aString):\n",
    "    chardeque = Deque()\n",
    "    for letter in aString:\n",
    "        chardeque.addRear(letter)\n",
    "    size = chardeque.size()//2\n",
    "    stillEqual = True\n",
    "    for i in range(size):\n",
    "        if chardeque.removeRear() != chardeque.removeFront():\n",
    "            stillEqual=False\n",
    "    return stillEqual\n",
    "\n",
    "palchecker(';asdkjf;lakjds')\n",
    "palchecker('poop')"
   ]
  },
  {
   "cell_type": "code",
   "execution_count": 70,
   "metadata": {},
   "outputs": [
    {
     "data": {
      "text/plain": [
       "True"
      ]
     },
     "execution_count": 70,
     "metadata": {},
     "output_type": "execute_result"
    }
   ],
   "source": [
    "#palindrome checker- correct for spaces\n",
    "def palchecker(aString):\n",
    "    for letter in aString:\n",
    "        if letter == \" \":\n",
    "             aString = aString.replace(letter, \"\")\n",
    "    chardeque = Deque()\n",
    "    for letter in aString:\n",
    "        chardeque.addRear(letter)\n",
    "    size = chardeque.size()//2\n",
    "    stillEqual = True\n",
    "    for i in range(size):\n",
    "        if chardeque.removeRear() != chardeque.removeFront():\n",
    "            stillEqual=False\n",
    "    return stillEqual\n",
    "\n",
    "palchecker('I PREFER PI')"
   ]
  },
  {
   "cell_type": "code",
   "execution_count": 99,
   "metadata": {},
   "outputs": [
    {
     "name": "stdout",
     "output_type": "stream",
     "text": [
      "['<h1>', '</h1>']\n"
     ]
    },
    {
     "data": {
      "text/html": [
       "<h1>Hello, world!</h1>"
      ],
      "text/plain": [
       "<IPython.core.display.HTML object>"
      ]
     },
     "metadata": {},
     "output_type": "display_data"
    }
   ],
   "source": [
    "#parentheses matching problem\n",
    "\n",
    "import re \n",
    "string = '<h1>Hello, world!</h1>'\n",
    "print(re.findall('<.*?>',string))\n",
    "\n",
    "from IPython.core.display import display, HTML\n",
    "display(HTML('<h1>Hello, world!</h1>'))\n",
    "\n"
   ]
  },
  {
   "cell_type": "code",
   "execution_count": 73,
   "metadata": {},
   "outputs": [
    {
     "data": {
      "text/html": [
       "<html><head><title>Example</title></head><body><h1>Hello, world</h1></body></html>"
      ],
      "text/plain": [
       "<IPython.core.display.HTML object>"
      ]
     },
     "metadata": {},
     "output_type": "display_data"
    }
   ],
   "source": [
    "display(HTML('<html><head><title>Example</title></head><body><h1>Hello, world</h1></body></html>'))"
   ]
  },
  {
   "cell_type": "code",
   "execution_count": 23,
   "metadata": {},
   "outputs": [
    {
     "name": "stdout",
     "output_type": "stream",
     "text": [
      "['>', '>', '>', '>', '>', '>', '>', '>', '>', '>']\n",
      "[]\n",
      "['<html>', '<head>', '<title>', '</title>', '</head>', '<body>', '<h1>', '</h1>', '</body>', '</html>']\n",
      "['<body>', '<body>', '<h1>', '<h1>', '<head>', '<head>', '<html>', '<html>', '<title>', '<title>']\n",
      "False\n",
      "False\n",
      "False\n",
      "False\n"
     ]
    },
    {
     "ename": "IndexError",
     "evalue": "list index out of range",
     "output_type": "error",
     "traceback": [
      "\u001b[0;31m---------------------------------------------------------------------------\u001b[0m",
      "\u001b[0;31mIndexError\u001b[0m                                Traceback (most recent call last)",
      "\u001b[0;32m<ipython-input-23-1938cfa821d9>\u001b[0m in \u001b[0;36m<module>\u001b[0;34m\u001b[0m\n\u001b[1;32m     23\u001b[0m     \u001b[0;31m#if empty[i] == empty[i+1]:\u001b[0m\u001b[0;34m\u001b[0m\u001b[0;34m\u001b[0m\u001b[0;34m\u001b[0m\u001b[0m\n\u001b[1;32m     24\u001b[0m     \u001b[0;31m#    print(empty[i], empty[i+1])\u001b[0m\u001b[0;34m\u001b[0m\u001b[0;34m\u001b[0m\u001b[0;34m\u001b[0m\u001b[0m\n\u001b[0;32m---> 25\u001b[0;31m     \u001b[0;32mif\u001b[0m \u001b[0mempty\u001b[0m\u001b[0;34m[\u001b[0m\u001b[0mi\u001b[0m\u001b[0;34m]\u001b[0m \u001b[0;34m!=\u001b[0m \u001b[0mempty\u001b[0m\u001b[0;34m[\u001b[0m\u001b[0mi\u001b[0m\u001b[0;34m+\u001b[0m\u001b[0;36m1\u001b[0m\u001b[0;34m]\u001b[0m\u001b[0;34m:\u001b[0m\u001b[0;34m\u001b[0m\u001b[0;34m\u001b[0m\u001b[0m\n\u001b[0m\u001b[1;32m     26\u001b[0m         \u001b[0mstillEqual\u001b[0m\u001b[0;34m=\u001b[0m\u001b[0;32mFalse\u001b[0m\u001b[0;34m\u001b[0m\u001b[0;34m\u001b[0m\u001b[0m\n\u001b[1;32m     27\u001b[0m         \u001b[0mprint\u001b[0m\u001b[0;34m(\u001b[0m\u001b[0mstillEqual\u001b[0m\u001b[0;34m)\u001b[0m\u001b[0;34m\u001b[0m\u001b[0;34m\u001b[0m\u001b[0m\n",
      "\u001b[0;31mIndexError\u001b[0m: list index out of range"
     ]
    }
   ],
   "source": [
    "import re \n",
    "\n",
    "string2 = '<html><head><title>Example</title></head><body><h1>Hello, world</h1></body></html>'\n",
    "print(re.findall('<*?>', string2))\n",
    "print(re.findall('<.?>', string2))\n",
    "\n",
    "print(re.findall('<.*?>', string2))\n",
    "\n",
    "stillEqual= True\n",
    "\n",
    "tags = re.findall('<.*?>', string2)\n",
    "empty = []\n",
    "for i in tags: \n",
    "    empty.append(i.replace('/', '') if '/' in i else i)\n",
    "empty = sorted(empty)\n",
    "print(empty)\n",
    "pepper = Deque()\n",
    "for i in tags:\n",
    "    pepper.addRear(i)\n",
    "    \n",
    "for i in range(len(empty)): \n",
    "    #for j in range((len(empty)-1)//2):\n",
    "    #if empty[i] == empty[i+1]:\n",
    "    #    print(empty[i], empty[i+1])\n",
    "    if empty[i] != empty[i+1]:\n",
    "        stillEqual=False\n",
    "        print(stillEqual)"
   ]
  },
  {
   "cell_type": "code",
   "execution_count": 123,
   "metadata": {},
   "outputs": [
    {
     "name": "stdout",
     "output_type": "stream",
     "text": [
      "<re.Match object; span=(0, 1), match='a'>\n",
      "<re.Match object; span=(0, 1), match='a'>\n",
      "['a', 'ab', 'ab']\n",
      "['a', 'abb', 'abb']\n",
      "['aa', 'ab']\n",
      "['aa', 'a']\n"
     ]
    }
   ],
   "source": [
    "string3 = 'aabbabb'\n",
    "\n",
    "print(re.search('ab?', string3))\n",
    "print(re.match('ab?', string3))\n",
    "print(re.findall('ab?', string3))\n",
    "print(re.findall('ab*', string3))\n",
    "print(re.findall('a.', string3))\n",
    "print(re.findall('a+', string3))"
   ]
  },
  {
   "cell_type": "code",
   "execution_count": 144,
   "metadata": {},
   "outputs": [
    {
     "name": "stdout",
     "output_type": "stream",
     "text": [
      "2\n",
      "3\n"
     ]
    }
   ],
   "source": [
    "num = [1,2,3]\n",
    "\n",
    "for j in range(len(num)-1):\n",
    "    print(num[j+1])"
   ]
  },
  {
   "cell_type": "code",
   "execution_count": 26,
   "metadata": {},
   "outputs": [
    {
     "data": {
      "text/plain": [
       "True"
      ]
     },
     "execution_count": 26,
     "metadata": {},
     "output_type": "execute_result"
    }
   ],
   "source": [
    "def tagHTML(html):\n",
    "    stillEqual= True\n",
    "    tags = re.findall('<.*?>', string2)\n",
    "    empty = []\n",
    "    for i in tags: \n",
    "        empty.append(i.replace('/', '') if '/' in i else i)\n",
    "    empty = sorted(empty)\n",
    "\n",
    "    for i in range(len(empty)-1, 2): \n",
    "        if empty[i] != empty[i+1]:\n",
    "            print(empty[i], empty[i+1])\n",
    "            stillEqual=False\n",
    "        else: \n",
    "            print(empty[i], empty[i+1])\n",
    "\n",
    "    return stillEqual\n",
    "\n",
    "tagHTML('<html><head><title>Example</title></head><body><h1>Hello, world</h1></body></html>')"
   ]
  },
  {
   "cell_type": "code",
   "execution_count": 42,
   "metadata": {},
   "outputs": [
    {
     "data": {
      "text/plain": [
       "True"
      ]
     },
     "execution_count": 42,
     "metadata": {},
     "output_type": "execute_result"
    }
   ],
   "source": [
    "class Node:\n",
    "    def __init__(self,initdata):\n",
    "        self.data = initdata\n",
    "        self.next = None\n",
    "\n",
    "    def getData(self):\n",
    "        return self.data\n",
    "\n",
    "    def getNext(self):\n",
    "        return self.next\n",
    "\n",
    "    def setData(self,newdata):\n",
    "        self.data = newdata\n",
    "\n",
    "    def setNext(self,newnext):\n",
    "        self.next = newnext\n",
    "        \n",
    "class UnorderedList:\n",
    "    def __init__(self):\n",
    "        self.head = None\n",
    "        \n",
    "temp = Node(95)\n",
    "temp.setNext(self.head)\n",
    "self.head = temp"
   ]
  },
  {
   "cell_type": "code",
   "execution_count": 67,
   "metadata": {},
   "outputs": [
    {
     "ename": "KeyboardInterrupt",
     "evalue": "",
     "output_type": "error",
     "traceback": [
      "\u001b[0;31m---------------------------------------------------------------------------\u001b[0m",
      "\u001b[0;31mKeyboardInterrupt\u001b[0m                         Traceback (most recent call last)",
      "\u001b[0;32m<ipython-input-67-42e8dd7a7132>\u001b[0m in \u001b[0;36m<module>\u001b[0;34m\u001b[0m\n\u001b[1;32m      2\u001b[0m \u001b[0;34m\u001b[0m\u001b[0m\n\u001b[1;32m      3\u001b[0m \u001b[0;32mfor\u001b[0m \u001b[0mperson\u001b[0m \u001b[0;32min\u001b[0m \u001b[0mmanager\u001b[0m\u001b[0;34m:\u001b[0m\u001b[0;34m\u001b[0m\u001b[0;34m\u001b[0m\u001b[0m\n\u001b[0;32m----> 4\u001b[0;31m     \u001b[0;32mwhile\u001b[0m \u001b[0mperson\u001b[0m \u001b[0;34m==\u001b[0m \u001b[0;32mNone\u001b[0m\u001b[0;34m:\u001b[0m\u001b[0;34m\u001b[0m\u001b[0;34m\u001b[0m\u001b[0m\n\u001b[0m\u001b[1;32m      5\u001b[0m         \u001b[0mplease\u001b[0m \u001b[0;34m=\u001b[0m \u001b[0mperson\u001b[0m\u001b[0;34m\u001b[0m\u001b[0;34m\u001b[0m\u001b[0m\n",
      "\u001b[0;31mKeyboardInterrupt\u001b[0m: "
     ]
    }
   ],
   "source": [
    "manager = [None, 'Some', 'Done']\n",
    "\n",
    "for person in manager:\n",
    "    while person == None:\n",
    "        please = person"
   ]
  },
  {
   "cell_type": "code",
   "execution_count": 64,
   "metadata": {},
   "outputs": [
    {
     "name": "stdout",
     "output_type": "stream",
     "text": [
      "6\n",
      "True\n",
      "False\n",
      "True\n",
      "7\n",
      "6\n",
      "5\n",
      "4\n",
      "False\n",
      "(False, '0 not found')\n",
      "[50, 100, 26, 17, 77]\n"
     ]
    }
   ],
   "source": [
    "#Linked List\n",
    "class Node:\n",
    "    def __init__(self,initdata):\n",
    "        self.data = initdata\n",
    "        self.next = None\n",
    "\n",
    "    def getData(self):\n",
    "        return self.data\n",
    "\n",
    "    def getNext(self):\n",
    "        return self.next\n",
    "\n",
    "    def setData(self,newdata):\n",
    "        self.data = newdata\n",
    "\n",
    "    def setNext(self,newnext):\n",
    "        self.next = newnext\n",
    "\n",
    "\n",
    "class UnorderedList:\n",
    "\n",
    "    def __init__(self):\n",
    "        self.head = None\n",
    "        \n",
    "    def slices(self, start, stop):\n",
    "        current = self.head\n",
    "        result= \"[\"\n",
    "        while current != None:\n",
    "            #if current!= None: #and (start >=0 and stop < count):\n",
    "            for i in range(start):\n",
    "                current= current.getNext()\n",
    "            result += str(current.getData())\n",
    "            for i in range(start+1, stop):\n",
    "                current = current.getNext()\n",
    "                result += \", \" + str(current.getData())\n",
    "            result += \"]\"\n",
    "            return result\n",
    "\n",
    "    def isEmpty(self):\n",
    "        return self.head == None\n",
    "    \n",
    "    def __str__(self):\n",
    "        result = \"[\"\n",
    "        node = self.head\n",
    "        if node != None:\n",
    "            result += str(node.data)\n",
    "            node = node.next\n",
    "            while node:\n",
    "                result += \", \" + str(node.data)\n",
    "                node = node.next\n",
    "        result += \"]\"\n",
    "        return result   \n",
    "\n",
    "    def add(self,item):\n",
    "        temp = Node(item)\n",
    "        temp.setNext(self.head)\n",
    "        self.head = temp\n",
    "        \n",
    "    def append(self, item):\n",
    "        current = self.head\n",
    "        if current == None:\n",
    "            self.head = Node(item)\n",
    "        else:\n",
    "            while current.getNext() != None:\n",
    "                current = current.getNext()\n",
    "\n",
    "            current.setNext(Node(item))\n",
    "            \n",
    "    def index(self, item):\n",
    "        current = self.head\n",
    "        count = -1\n",
    "        while current != None:\n",
    "            if current.getData() == item:\n",
    "                count += 1\n",
    "                return count\n",
    "            else:\n",
    "                current = current.getNext()\n",
    "                count = count + 1    \n",
    "    \n",
    "    def insert(self, item, index):\n",
    "        current = self.head\n",
    "        previous = None\n",
    "        count = 0\n",
    "        while current != None:\n",
    "            count += 1\n",
    "            current = current.getNext()\n",
    "        if index==0:\n",
    "            temp = Node(item)\n",
    "            current = current.getNext()\n",
    "            temp.setNext(current)\n",
    "            self.head = temp\n",
    "        elif index < 0 or index > count :\n",
    "            raise Exception(\"Out of range! Try again\")\n",
    "            #return \"Out of range! Try again\"\n",
    "        else:\n",
    "            while current != None:\n",
    "                count += 1\n",
    "                current = current.getNext()\n",
    "            print(count)\n",
    "            current = self.head\n",
    "            #if current != None: # and (index > 0 and index <= 5):\n",
    "            for i in range(index):\n",
    "                previous = current\n",
    "                current = current.getNext()\n",
    "            previous.setNext(Node(item))\n",
    "            #previous = previous.getNext()\n",
    "            #previous.setNext(Node(16))            \n",
    "\n",
    "            for i in range(index+1, count+1):\n",
    "                previous = previous.getNext()\n",
    "                previous.setNext(Node(current.getData()))\n",
    "                current = current.getNext()\n",
    "\n",
    "            \n",
    "    def size(self):\n",
    "        current = self.head\n",
    "        count = 0\n",
    "        while current != None:\n",
    "            count = count + 1\n",
    "            current = current.getNext()\n",
    "        return count\n",
    "\n",
    "    def search(self,item):\n",
    "        current = self.head\n",
    "        found = False\n",
    "        while current != None and not found:\n",
    "            if current.getData() == item:\n",
    "                found = True\n",
    "            else:\n",
    "                current = current.getNext()\n",
    "        return found\n",
    "    \n",
    "    def pop(self):\n",
    "        current=self.head\n",
    "        previous = None\n",
    "        while current.getNext() != None:\n",
    "            previous = current\n",
    "            current = current.getNext()\n",
    "        #if current != None:\n",
    "        previous.setNext(current.getNext())\n",
    "\n",
    "    def remove(self,item):\n",
    "        current = self.head\n",
    "        previous = None\n",
    "        found = False\n",
    "        while current != None and not found:\n",
    "            if current.getData() == item:\n",
    "                found = True\n",
    "            else:\n",
    "                previous = current\n",
    "                current = current.getNext()\n",
    "        if previous == None:\n",
    "            self.head = current.getNext()\n",
    "        elif previous != None and current != None:\n",
    "            previous.setNext(current.getNext())\n",
    "        else:\n",
    "            return found, str(item) + \" not found\"\n",
    "            \n",
    "\n",
    "\n",
    "mylist = UnorderedList()\n",
    "\n",
    "mylist.add(31)\n",
    "mylist.add(77)\n",
    "mylist.add(17)\n",
    "mylist.add(93)\n",
    "mylist.add(26)\n",
    "mylist.add(54)\n",
    "\n",
    "print(mylist.size())\n",
    "print(mylist.search(93))\n",
    "print(mylist.search(100))\n",
    "\n",
    "mylist.add(100)\n",
    "print(mylist.search(100))\n",
    "print(mylist.size())\n",
    "\n",
    "mylist.remove(54)\n",
    "print(mylist.size())\n",
    "mylist.remove(93)\n",
    "print(mylist.size())\n",
    "mylist.remove(31)\n",
    "print(mylist.size())\n",
    "print(mylist.search(93))\n",
    "\n",
    "print(mylist.remove(0))\n",
    "mylist.add(50)\n",
    "print(mylist)"
   ]
  },
  {
   "cell_type": "code",
   "execution_count": 65,
   "metadata": {},
   "outputs": [
    {
     "name": "stdout",
     "output_type": "stream",
     "text": [
      "5\n",
      "6\n",
      "[50, 100, 26, 17, 1, 77, 77, 5, 77]\n",
      "5\n"
     ]
    }
   ],
   "source": [
    "mylist.insert(1,4)\n",
    "mylist.insert(77, 5)\n",
    "mylist.append(5)\n",
    "mylist.append(77)\n",
    "print(mylist)\n",
    "\n",
    "print(mylist.index(77))"
   ]
  },
  {
   "cell_type": "code",
   "execution_count": 49,
   "metadata": {},
   "outputs": [
    {
     "name": "stdout",
     "output_type": "stream",
     "text": [
      "[1, 2, 3, 4, 0, 0, 5]\n",
      "[1, 2, 3, 4, 0, 5]\n"
     ]
    }
   ],
   "source": [
    "#duplicates will affect the remove function, because it's only removing on duplicate, not the other duplicates OKAY\n",
    "#duplicates will affect the index function, because it's only searching one duplicate, not the others\n",
    "\n",
    "lists = [1,2,3,4,5]\n",
    "lists.insert(4,0)\n",
    "lists.insert(4,0)\n",
    "print(lists)\n",
    "lists.remove(0)\n",
    "print(lists)"
   ]
  },
  {
   "cell_type": "code",
   "execution_count": 296,
   "metadata": {},
   "outputs": [],
   "source": [
    "#ORDERED LIST\n",
    "class Node:\n",
    "    def __init__(self,initdata):\n",
    "        self.data = initdata\n",
    "        self.next = None\n",
    "\n",
    "    def getData(self):\n",
    "        return self.data\n",
    "\n",
    "    def getNext(self):\n",
    "        return self.next\n",
    "\n",
    "    def setData(self,newdata):\n",
    "        self.data = newdata\n",
    "\n",
    "    def setNext(self,newnext):\n",
    "        self.next = newnext\n",
    "\n",
    "class OrderedList:\n",
    "    def __init__(self):\n",
    "        self.head = None\n",
    "        \n",
    "    def isEmpty(self):\n",
    "        return self.head == None\n",
    "    \n",
    "    def __str__(self):\n",
    "        result = \"[\"\n",
    "        node = self.head\n",
    "        if node != None:\n",
    "            result += str(node.data)\n",
    "            node = node.next\n",
    "            while node:\n",
    "                result += \", \" + str(node.data)\n",
    "                node = node.next\n",
    "        result += \"]\"\n",
    "        return result\n",
    "    \n",
    "    def size(self):\n",
    "        current = self.head\n",
    "        count = 0\n",
    "        while current != None:\n",
    "            count = count + 1\n",
    "            current = current.getNext()\n",
    "        return count\n",
    "    \n",
    "    def remove(self,item):\n",
    "        current = self.head\n",
    "        previous = None\n",
    "        found = False\n",
    "        while current != None and not found:\n",
    "            if current.getData() == item:\n",
    "                found = True\n",
    "            else:\n",
    "                previous = current\n",
    "                current = current.getNext()\n",
    "        if previous == None:\n",
    "            self.head = current.getNext()\n",
    "        elif previous != None and current != None:\n",
    "            previous.setNext(current.getNext())\n",
    "        else:\n",
    "            return found, str(item) + \" not found\"\n",
    "        \n",
    "    def add(self, item):\n",
    "        temp = Node(item)\n",
    "        current = self.head\n",
    "        previous = None\n",
    "        #found = False\n",
    "        if current == None:\n",
    "            temp.setNext(self.head)\n",
    "            self.head = temp\n",
    "        #else: \n",
    "        while current != None: #and not found:\n",
    "            #if current.getData() == item:\n",
    "            #    found = True\n",
    "            if current.getData() >= item:\n",
    "                #print(current.getData(), item)\n",
    "                temp.setNext(self.head)\n",
    "                self.head = temp\n",
    "                current= None\n",
    "            #current = current.getNext()\n",
    "            else:\n",
    "                while current != None and current.getData() < item:\n",
    "                    previous = current\n",
    "                    #print(previous)\n",
    "                    current = current.getNext()\n",
    "                    print(current.getData())\n",
    "                #if previous == None:\n",
    "                    #self.head = current.getNext()\n",
    "                previous.setNext(Node(item))\n",
    "                while current != None and current.getData() > item:\n",
    "                    print(current.getData())\n",
    "                    previous = previous.getNext()\n",
    "                    previous.setNext(Node(current.getData()))\n",
    "                    current = current.getNext()\n",
    "                    \n",
    "        def index(self, item):\n",
    "            current = self.head\n",
    "            previous= None\n",
    "            count = 0 \n",
    "            #print(current)\n",
    "            while current != None and current.getData() < item:\n",
    "                previous = current\n",
    "                current = current.getNext()\n",
    "                count += 1\n",
    "            #current = current.getNext()\n",
    "            #print(previous.getData())\n",
    "            return count\n",
    "        \n",
    "    def search(self, item):\n",
    "        current = self.head\n",
    "        found = False\n",
    "        while current != None and not found:\n",
    "            if current.getData() == item:\n",
    "                found = True\n",
    "            elif current.getData() > item:\n",
    "                return found\n",
    "            else: \n",
    "                current = current.getNext()\n",
    "        return found\n",
    "    \n",
    "    def pop(self):\n",
    "        current=self.head\n",
    "        previous = None\n",
    "        while current.getNext() != None:\n",
    "            previous = current\n",
    "            current = current.getNext()\n",
    "        #if current != None:\n",
    "        previous.setNext(current.getNext())\n",
    "        \n",
    "    def pop(self, item):\n",
    "        current = self.head\n",
    "        previous= None\n",
    "        #print(current)\n",
    "        count = 0\n",
    "#         while current != None:\n",
    "#             count = count + 1\n",
    "#             current = current.getNext()\n",
    "        while current != None and item > count:\n",
    "            previous = current\n",
    "            current = current.getNext()\n",
    "            count = count + 1\n",
    "        #current = current.getNext()\n",
    "        #print(previous.getData())\n",
    "        previous.setNext(current.getNext())\n",
    "        return current.getData()\n"
   ]
  },
  {
   "cell_type": "code",
   "execution_count": 297,
   "metadata": {},
   "outputs": [
    {
     "name": "stdout",
     "output_type": "stream",
     "text": [
      "4\n",
      "7\n",
      "9\n",
      "9\n",
      "11\n",
      "4\n",
      "7\n",
      "7\n",
      "8\n",
      "9\n",
      "11\n",
      "[1, 2, 4, 5, 7, 8, 9, 11]\n"
     ]
    }
   ],
   "source": [
    "mylist = OrderedList()\n",
    "mylist.add(11)\n",
    "mylist.add(9)\n",
    "mylist.add(7)\n",
    "mylist.add(4)\n",
    "mylist.add(2) #[2,4,7,9,11]\n",
    "mylist.add(8)\n",
    "mylist.add(5)\n",
    "mylist.add(1)\n",
    "print(mylist)\n",
    "#print(mylist)\n",
    "\n",
    "#mylist.search(3)\n",
    "\n",
    "#mylist.add(1)\n",
    "#print(mylist)"
   ]
  },
  {
   "cell_type": "code",
   "execution_count": 298,
   "metadata": {},
   "outputs": [
    {
     "name": "stdout",
     "output_type": "stream",
     "text": [
      "[1, 2, 4, 5, 7, 9, 11]\n"
     ]
    }
   ],
   "source": [
    "mylist.pop(5)\n",
    "print(mylist)"
   ]
  },
  {
   "cell_type": "code",
   "execution_count": 29,
   "metadata": {},
   "outputs": [
    {
     "name": "stdout",
     "output_type": "stream",
     "text": [
      "[1, 2, 7, 9, 10, 43]\n",
      "43\n"
     ]
    }
   ],
   "source": [
    "#Implement a stack using linked lists.\n",
    "class Node:\n",
    "    def __init__(self,initdata):\n",
    "        self.data = initdata\n",
    "        self.next = None\n",
    "\n",
    "    def getData(self):\n",
    "        return self.data\n",
    "\n",
    "    def getNext(self):\n",
    "        return self.next\n",
    "\n",
    "    def setData(self,newdata):\n",
    "        self.data = newdata\n",
    "\n",
    "    def setNext(self,newnext):\n",
    "        self.next = newnext\n",
    "        \n",
    "class Stack: \n",
    "    def __init__(self):\n",
    "        self.head = None\n",
    "    def isEmpty(self):\n",
    "        return self.head==None\n",
    "    def __str__(self):\n",
    "        current = self.head\n",
    "        result = \"[\" \n",
    "        if current != None:\n",
    "            result += str(current.getData())\n",
    "            current = current.getNext()\n",
    "            while current != None:\n",
    "                result += \", \" + str(current.getData())\n",
    "                current = current.getNext()\n",
    "        result += \"]\"\n",
    "        return result\n",
    "    \n",
    "    def size(self):\n",
    "        current = self.head\n",
    "        count = 0 \n",
    "        while current != None: \n",
    "            current = current.getNext()\n",
    "            count += 1\n",
    "        return count\n",
    "    \n",
    "    def push(self, item):\n",
    "        current = self.head\n",
    "        if current == None: \n",
    "            temp = Node(item)\n",
    "            current=self.head\n",
    "            self.head = temp\n",
    "        else:\n",
    "            while current.getNext() != None: \n",
    "                current = current.getNext()\n",
    "                #print(current)\n",
    "            current.setNext(Node(item))\n",
    "    \n",
    "    def peek(self):\n",
    "        current = self.head\n",
    "        if current != None:\n",
    "            current = current.getNext()\n",
    "            #print(current.getData())\n",
    "            while current.getNext() != None:\n",
    "                current = current.getNext()\n",
    "            return current.getData()\n",
    "            #result = current.getData()\n",
    "    \n",
    "objects = Stack()\n",
    "objects.isEmpty()\n",
    "objects.push(1)\n",
    "objects.push(2)\n",
    "objects.push(7)\n",
    "objects.push(9)\n",
    "objects.push(10)\n",
    "objects.push(43)\n",
    "print(objects)\n",
    "print(objects.peek())"
   ]
  },
  {
   "cell_type": "code",
   "execution_count": 5,
   "metadata": {},
   "outputs": [
    {
     "name": "stdout",
     "output_type": "stream",
     "text": [
      "3\n"
     ]
    }
   ],
   "source": [
    "print(objects.size())"
   ]
  },
  {
   "cell_type": "code",
   "execution_count": 85,
   "metadata": {},
   "outputs": [],
   "source": [
    "#QUEUE\n",
    "class Queue: \n",
    "    def __init__(self):\n",
    "        self.head = None\n",
    "    def isEmpty(self):\n",
    "        return self.head==None\n",
    "    def __str__(self):\n",
    "        current = self.head\n",
    "        result = \"[\" \n",
    "        if current != None:\n",
    "            result += str(current.getData())\n",
    "            current = current.getNext()\n",
    "            while current != None:\n",
    "                result += \", \" + str(current.getData())\n",
    "                current = current.getNext()\n",
    "        result += \"]\"\n",
    "        return result\n",
    "    \n",
    "    def size(self):\n",
    "        current = self.head\n",
    "        count = 0 \n",
    "        while current != None: \n",
    "            current = current.getNext()\n",
    "            count += 1\n",
    "        return count\n",
    "    \n",
    "    def enqueue(self, item):\n",
    "        temp = Node(item)\n",
    "        temp.setNext(self.head)\n",
    "        self.head = temp\n",
    "                   \n",
    "    def addFront(self, item):\n",
    "        current = self.head\n",
    "        if current == None:\n",
    "            current = current.getNext()\n",
    "            while current != None:\n",
    "                current = current.getNext()\n",
    "        current.setNext(Node(item))\n",
    "        \n",
    "    def dequeue(self): #similar to pop function\n",
    "        current = self.head\n",
    "        previous = None\n",
    "        while current.getNext() != None:\n",
    "            previous = current \n",
    "            print(previous)\n",
    "            current = current.getNext()\n",
    "            print(current)\n",
    "        previous.setNext(current.getNext())\n"
   ]
  },
  {
   "cell_type": "code",
   "execution_count": 87,
   "metadata": {},
   "outputs": [
    {
     "name": "stdout",
     "output_type": "stream",
     "text": [
      "[56, 16, 7]\n",
      "<__main__.Node object at 0x1061fa898>\n",
      "<__main__.Node object at 0x1061fa6d8>\n",
      "<__main__.Node object at 0x1061fa6d8>\n",
      "<__main__.Node object at 0x1061fa978>\n",
      "[56, 16]\n"
     ]
    }
   ],
   "source": [
    "objects = Queue()\n",
    "objects.enqueue(7)\n",
    "objects.enqueue(16)\n",
    "objects.enqueue(56)\n",
    "print(objects)\n",
    "objects.dequeue()\n",
    "print(objects)"
   ]
  },
  {
   "cell_type": "code",
   "execution_count": null,
   "metadata": {},
   "outputs": [],
   "source": []
  }
 ],
 "metadata": {
  "kernelspec": {
   "display_name": "Python 3",
   "language": "python",
   "name": "python3"
  },
  "language_info": {
   "codemirror_mode": {
    "name": "ipython",
    "version": 3
   },
   "file_extension": ".py",
   "mimetype": "text/x-python",
   "name": "python",
   "nbconvert_exporter": "python",
   "pygments_lexer": "ipython3",
   "version": "3.7.3"
  }
 },
 "nbformat": 4,
 "nbformat_minor": 4
}
