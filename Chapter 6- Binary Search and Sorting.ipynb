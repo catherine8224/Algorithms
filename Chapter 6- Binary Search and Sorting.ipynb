{
 "cells": [
  {
   "cell_type": "code",
   "execution_count": 2,
   "metadata": {},
   "outputs": [],
   "source": [
    "searching = ['yellow', 'hello', 'babies', 3, 'matcha', None]"
   ]
  },
  {
   "cell_type": "code",
   "execution_count": 7,
   "metadata": {},
   "outputs": [
    {
     "data": {
      "text/plain": [
       "True"
      ]
     },
     "execution_count": 7,
     "metadata": {},
     "output_type": "execute_result"
    }
   ],
   "source": [
    "#SEQUENTIAL SEARCH\n",
    "\n",
    "def seqSearch(searchlist, num):\n",
    "    found = False\n",
    "    for i in range(len(searchlist)):\n",
    "        if searchlist[i] == num: \n",
    "            found=True\n",
    "    return found\n",
    "\n",
    "seqSearch(searching, 'yellow')"
   ]
  },
  {
   "cell_type": "code",
   "execution_count": null,
   "metadata": {},
   "outputs": [],
   "source": [
    "def sequentialSearch(alist, item):\n",
    "    pos = 0\n",
    "    found = False\n",
    "\n",
    "    while pos < len(alist) and not found:\n",
    "        if alist[pos] == item:\n",
    "            found = True\n",
    "        else:\n",
    "            pos = pos+1\n",
    "\n",
    "    return found"
   ]
  },
  {
   "cell_type": "code",
   "execution_count": 2,
   "metadata": {},
   "outputs": [
    {
     "name": "stdout",
     "output_type": "stream",
     "text": [
      "45\n",
      "45\n",
      "1\n",
      "1\n",
      "ROUND2:  [1]\n",
      "[36]\n",
      "[76, 98, 125]\n",
      "[1, 4, 36, 45, 76, 98, 125]\n"
     ]
    }
   ],
   "source": [
    "def orderedSearch(alist, item):\n",
    "    pos = 0\n",
    "    found = False\n",
    "\n",
    "    while pos < len(alist) and not found:\n",
    "        #print(pos)\n",
    "        if alist[pos] == item:\n",
    "            found = True\n",
    "        #elif item < alist[pos] :\n",
    "        elif alist[pos] > item:\n",
    "            return found\n",
    "        else:\n",
    "            pos = pos+1\n",
    "\n",
    "    return found\n",
    "\n",
    "search2 = [1,4, 36, 45, 76, 98, 125]\n",
    "print(search2[3])\n",
    "print(search2[len(search2)//2])\n",
    "\n",
    "length = (len(search2)//2)\n",
    "new_search = search2[:length]\n",
    "print(new_search[0])\n",
    "\n",
    "\n",
    "\n",
    "length2 = (len(new_search)//2)\n",
    "print(length2)\n",
    "print(\"ROUND2: \", new_search[:length2])\n",
    "print(new_search[length2+1:])\n",
    "\n",
    "print(search2[(len(search2)//2)+1:])\n",
    "#print(len(search2))\n",
    "\n",
    "orderedSearch(search2, 4)\n",
    "\n",
    "print(search2)"
   ]
  },
  {
   "cell_type": "code",
   "execution_count": 13,
   "metadata": {},
   "outputs": [
    {
     "data": {
      "text/plain": [
       "True"
      ]
     },
     "execution_count": 13,
     "metadata": {},
     "output_type": "execute_result"
    }
   ],
   "source": [
    "#Binary Search \n",
    "\n",
    "def binarySearch(alist, item):\n",
    "    found = False\n",
    "    if len(alist) == 0:\n",
    "        return found\n",
    "    else: #while len(alist) > 0 and not found:\n",
    "        #print(len(alist))\n",
    "        length = len(alist)//2\n",
    "        #print(\"Length: \", length)\n",
    "        #print(\"New list: \", alist)\n",
    "        #print(\"Middle Value: \", alist[length])\n",
    "        middle = alist[length]\n",
    "        if middle == item: \n",
    "            found = True\n",
    "            return found\n",
    "        else: \n",
    "            if middle > item: \n",
    "                alist = alist[0:length]\n",
    "                return binarySearch(alist, item)\n",
    "            else:\n",
    "                alist = alist[length+1:]\n",
    "                return binarySearch(alist, item)\n",
    "\n",
    "binarySearch(search2, 36)\n"
   ]
  },
  {
   "cell_type": "code",
   "execution_count": 96,
   "metadata": {},
   "outputs": [],
   "source": [
    "class Hashing:\n",
    "    def __init__(self):\n",
    "        self.size= 11\n",
    "        self.slots = [None] * self.size\n",
    "        self.data = [None] * self.size\n",
    "        \n",
    "    def __str__(self):\n",
    "        return str(self.slots)\n",
    "                \n",
    "    def put(self, key, data):\n",
    "        hashvalue = self.hashfunction(key, len(self.slots))\n",
    "        if self.slots[hashvalue] == None:\n",
    "            self.slots[hashvalue] = key #the output slots\n",
    "            self.data[hashvalue] = data #the input value\n",
    "        else: \n",
    "            nextslot = self.rehash(hashvalue, len(self.slots))\n",
    "            while self.slots[nextslot] != None and self.slots[nextslot] != key: \n",
    "                nextslot = self.rehash(nextslot, len(self.slots))\n",
    "                \n",
    "    def hashfunction(self, key, size):\n",
    "        return key%size #returns the REMAINDER after dividing the key value by size (11) of list\n",
    "    \n",
    "    def rehash(self, oldhash, size): #one solution of collision resolution\n",
    "        return (oldhash+1)%size #returns REMAINDER after dividing old key value by size (11)\n",
    "     \n",
    "    def get(self,key): #key is 26. returns the H.data (like dog). Similar to __getitem__ but doesn't use H[54]\n",
    "        startslot = self.hashfunction(key,len(self.slots))\n",
    "        data = None\n",
    "        stop = False\n",
    "        found = False\n",
    "        position = startslot\n",
    "        while self.slots[position] != None and  not found and not stop:\n",
    "            if self.slots[position] == key:\n",
    "                found = True\n",
    "                data = self.data[position]\n",
    "            else:\n",
    "                position=self.rehash(position,len(self.slots))\n",
    "                if position == startslot:\n",
    "                    stop = True\n",
    "        return data\n",
    "    \n",
    "    def __delete__(self, index):\n",
    "        for i in range(11):\n",
    "            if self.slots[i] == index:\n",
    "                self.slots[i]=None\n",
    "    \n",
    "    def __len__(self):\n",
    "        return len(self.slots)\n",
    "    \n",
    "    def __contains__(self, val):\n",
    "        for i in range(11):\n",
    "            if self.data[i] == val:\n",
    "                return True\n",
    "        return False\n",
    "        #return self.data[i], self.slots\n",
    "\n",
    "    def __getitem__(self,key): #for H.data\n",
    "        return self.get(key)\n",
    "\n",
    "    def __setitem__(self,key,data): #for H.slots\n",
    "        self.put(key,data)"
   ]
  },
  {
   "cell_type": "code",
   "execution_count": 98,
   "metadata": {},
   "outputs": [
    {
     "name": "stdout",
     "output_type": "stream",
     "text": [
      "cat\n",
      "dog\n",
      "11\n",
      "LENGTH:  11\n",
      "4\n",
      "True\n",
      "None\n",
      "[None, None, None, None, None, 93, 17, None, None, None, 54]\n"
     ]
    }
   ],
   "source": [
    "H = Hashing()\n",
    "H[54] = 'cat'\n",
    "H[26] = 'dog'\n",
    "H[93] = 'lion'\n",
    "H[17] = 'tiger'\n",
    "\n",
    "#H.slots\n",
    "\n",
    "print(H[54])\n",
    "\n",
    "print(H.get(26))\n",
    "\n",
    "print(H.__len__())\n",
    "print(\"LENGTH: \", len(H))\n",
    "\n",
    "print(H.hashfunction(26, 11))\n",
    "\n",
    "print(H.__contains__('lion'))\n",
    "\n",
    "print(H.__delete__(26))\n",
    "print(H)"
   ]
  },
  {
   "cell_type": "code",
   "execution_count": 84,
   "metadata": {},
   "outputs": [
    {
     "name": "stdout",
     "output_type": "stream",
     "text": [
      "[1, 3, 4, 5, 6, 7, 8, 9, 10]\n",
      "{1: 'two', 5.78: 'good'}\n"
     ]
    }
   ],
   "source": [
    "numbers = [1,2,3,4,5,6,7,8,9,10]\n",
    " \n",
    "del numbers[1]\n",
    "\n",
    "print(numbers)\n",
    "\n",
    "dict1 = {1: 'two', False: 34, 5.78: 'good'}\n",
    "\n",
    "del dict1[False]\n",
    "print(dict1)"
   ]
  },
  {
   "cell_type": "code",
   "execution_count": 16,
   "metadata": {},
   "outputs": [
    {
     "name": "stdout",
     "output_type": "stream",
     "text": [
      "12\n",
      "[None, None, None, 4, None, None, None, None, None, None, None, None]\n"
     ]
    }
   ],
   "source": [
    "class Hearts:\n",
    "    def __init__(self):\n",
    "        self.manch = 12\n",
    "        self.slots = [None] * self.manch\n",
    "        self.data = [None] *self.manch\n",
    "        \n",
    "    def size(self):\n",
    "        current = self.head\n",
    "        count = 0 \n",
    "        while current != None: \n",
    "            current = current.getNext()\n",
    "            count += 1\n",
    "        return count\n",
    "    \n",
    "    def enqueue(self, item):\n",
    "        temp = Node(item)\n",
    "        temp.setNext(self.head)\n",
    "        self.head = temp\n",
    "        \n",
    "heart = Hearts()\n",
    "#heart.manch\n",
    "\n",
    "#print(heart.slots)\n",
    "#print(heart.data) #[None, None, None, None, None, None, None, None, None, None, None, None]\n",
    "\n",
    "print(len(heart.slots))\n",
    "heart.slots[3] = 4\n",
    "print(heart.slots)"
   ]
  },
  {
   "cell_type": "code",
   "execution_count": 148,
   "metadata": {},
   "outputs": [],
   "source": [
    "def sequentialSearch(alist, item):\n",
    "    pos = 0\n",
    "    found = False\n",
    "\n",
    "    while pos < len(alist) and not found:\n",
    "        if alist[pos] == item:\n",
    "            found = True\n",
    "        else:\n",
    "            pos = pos+1\n",
    "\n",
    "    return found"
   ]
  },
  {
   "cell_type": "code",
   "execution_count": 116,
   "metadata": {},
   "outputs": [
    {
     "name": "stdout",
     "output_type": "stream",
     "text": [
      "6\n"
     ]
    }
   ],
   "source": [
    "print(random.choice([1,2,3,4,5,6,7,8]))"
   ]
  },
  {
   "cell_type": "code",
   "execution_count": 2,
   "metadata": {
    "scrolled": true
   },
   "outputs": [
    {
     "data": {
      "image/png": "[encoded data removed]",
      "text/plain": [
       "<Figure size 864x720 with 1 Axes>"
      ]
     },
     "metadata": {
      "needs_background": "light"
     },
     "output_type": "display_data"
    }
   ],
   "source": [
    "import timeit\n",
    "import matplotlib.pyplot as plt\n",
    "import_module = \"import random\"\n",
    "import random\n",
    "\n",
    "testcode = '''def sequentialSearch(alist, item=7):\n",
    "    pos = 0\n",
    "    found = False\n",
    "\n",
    "    while pos < len(alist) and not found:\n",
    "        if alist[pos] == item:\n",
    "            found = True\n",
    "        else:\n",
    "            pos = pos+1\n",
    "\n",
    "    return found'''\n",
    "\n",
    "\n",
    "#Binary Search \n",
    "testcode2 = '''def binarySearch(alist, item=7):\n",
    "    found = False\n",
    "    if len(alist) == 0:\n",
    "        return found\n",
    "    else: \n",
    "        length = len(alist)//2\n",
    "        middle = alist[length]\n",
    "        if middle == item: \n",
    "            found = True\n",
    "            return found\n",
    "        else: \n",
    "            if middle > item: \n",
    "                alist = alist[0:length]\n",
    "                return binarySearch(alist, item)\n",
    "            else:\n",
    "                alist = alist[length+1:]\n",
    "                return binarySearch(alist, item)'''\n",
    "x1 = []\n",
    "x2 = []\n",
    "for i in range(1000000,100000001,1000000):\n",
    "    y = range(1000000,100000001,1000000) #length 100\n",
    "    alist = [random.randrange(10) for _ in range(500)]\n",
    "    sequential = timeit.Timer(stmt = testcode, setup = import_module)\n",
    "    binary = timeit.Timer(stmt = testcode2, setup = import_module)\n",
    "    ps = sequential.timeit(number=1000)\n",
    "    x1.append(ps)\n",
    "    pb = binary.timeit(number=1000)\n",
    "    x2.append(pb)\n",
    "\n",
    "    #print(f\"{ps:.5f} \\t {pb:.5f}\")\n",
    "\n",
    "%matplotlib inline\n",
    "\n",
    "fig = plt.figure(figsize=(12,10))\n",
    "\n",
    "\n",
    "plt.scatter(x=y, y=x1, c='b', marker='x', label='1')\n",
    "plt.scatter(x=y, y=x2, c='y',marker='o', label='-1')\n",
    "\n",
    "plt.legend(loc='upper left')\n",
    "\n",
    "plt.show()\n",
    "\n",
    "\n",
    "#print(\"sequence \", sequential.timeit(number=1000), \"milliseconds\")\n"
   ]
  },
  {
   "cell_type": "code",
   "execution_count": 157,
   "metadata": {},
   "outputs": [
    {
     "name": "stdout",
     "output_type": "stream",
     "text": [
      "0.0001813710005080793\n"
     ]
    }
   ],
   "source": [
    "#Binary Search \n",
    "\n",
    "testcode = '''def binarySearch(alist, item=7):\n",
    "    found = False\n",
    "    if len(alist) == 0:\n",
    "        return found\n",
    "    else: \n",
    "        length = len(alist)//2\n",
    "        middle = alist[length]\n",
    "        if middle == item: \n",
    "            found = True\n",
    "            return found\n",
    "        else: \n",
    "            if middle > item: \n",
    "                alist = alist[0:length]\n",
    "                return binarySearch(alist, item)\n",
    "            else:\n",
    "                alist = alist[length+1:]\n",
    "                return binarySearch(alist, item)'''\n",
    "\n",
    "alist = [random.randrange(10) for _ in range(500)]\n",
    "sequential = timeit.Timer(stmt = testcode, setup = import_module)\n",
    "print(sequential.timeit(number=1000))"
   ]
  },
  {
   "cell_type": "code",
   "execution_count": 151,
   "metadata": {},
   "outputs": [
    {
     "name": "stdout",
     "output_type": "stream",
     "text": [
      "1.3429998944047838e-06\n"
     ]
    }
   ],
   "source": [
    "def foo(num1, num2):\n",
    "    def _foo():\n",
    "        # do something to num1 and num2\n",
    "        pass\n",
    "    return _foo\n",
    "\n",
    "A = 1\n",
    "B = 2\n",
    "\n",
    "import timeit\n",
    "t = timeit.Timer(foo(A,B))  \n",
    "print(t.timeit(5))"
   ]
  },
  {
   "cell_type": "code",
   "execution_count": 9,
   "metadata": {},
   "outputs": [
    {
     "data": {
      "text/plain": [
       "[1, None, True, (2+3j), [12, 3, True]]"
      ]
     },
     "execution_count": 9,
     "metadata": {},
     "output_type": "execute_result"
    }
   ],
   "source": [
    "#Implement the bubble sort using simultaneous assignment.\n",
    "\n",
    "alist = [1, True, 2+3j, list([12,3,True])]\n",
    "alist.insert(0, None)\n",
    "\n",
    "temp = alist[0]\n",
    "alist[0] = alist[1]\n",
    "alist[1] = temp\n",
    "\n",
    "alist"
   ]
  },
  {
   "cell_type": "code",
   "execution_count": 36,
   "metadata": {},
   "outputs": [
    {
     "name": "stdout",
     "output_type": "stream",
     "text": [
      "10\n",
      "9\n",
      "8\n",
      "7\n",
      "6\n",
      "5\n",
      "4\n",
      "3\n",
      "2\n"
     ]
    }
   ],
   "source": [
    "#for i in range(10, 0, -1):\n",
    "#    print(i)\n",
    "\n",
    "for i in reversed(range(1,11))"
   ]
  },
  {
   "cell_type": "code",
   "execution_count": 35,
   "metadata": {},
   "outputs": [
    {
     "name": "stdout",
     "output_type": "stream",
     "text": [
      "6 0\n",
      "6 1\n",
      "6 2\n",
      "6 3\n",
      "6 4\n",
      "6 5\n",
      "5 0\n",
      "5 1\n",
      "5 2\n",
      "5 3\n",
      "5 4\n",
      "4 0\n",
      "4 1\n",
      "4 2\n",
      "4 3\n",
      "3 0\n",
      "3 1\n",
      "3 2\n",
      "2 0\n",
      "2 1\n",
      "1 0\n"
     ]
    }
   ],
   "source": [
    "flist = [26, 54, 77, 89, 1, 3, 99]\n",
    "\n",
    "for i in range(len(flist)-1,0, -1):\n",
    "    for j in range(i):\n",
    "        print(i, j)"
   ]
  },
  {
   "cell_type": "code",
   "execution_count": 28,
   "metadata": {},
   "outputs": [
    {
     "name": "stdout",
     "output_type": "stream",
     "text": [
      "[1, 3, 26, 54, 77, 89, 99]\n",
      "[1, 2, 3]\n"
     ]
    }
   ],
   "source": [
    "#Bubble Sort \n",
    "\n",
    "flist = [26, 54, 77, 89, 1, 3, 99]\n",
    "slist = [1,2,3]\n",
    "\n",
    "def bubbleSort(alist):\n",
    "    for i in range(len(alist)-1):\n",
    "        while alist[i] > alist[i+1]:\n",
    "            #if alist[i] < alist[i+1]:\n",
    "            #    pass\n",
    "            #elif alist[i] > alist[i+1]:\n",
    "            temp = alist[i]\n",
    "            alist[i] = alist[i+1]\n",
    "            alist[i+1] = temp\n",
    "            bubbleSort(alist)\n",
    "    return alist\n",
    "        \n",
    "            \n",
    "            \n",
    "print(bubbleSort(flist))   #[26, 54, 77, 1, 3, 89, 99]   \n",
    "\n",
    "print(bubbleSort(slist))"
   ]
  },
  {
   "cell_type": "code",
   "execution_count": null,
   "metadata": {},
   "outputs": [],
   "source": [
    "def bubbleSort(alist):\n",
    "    for passnum in range(len(alist)-1,0,-1):\n",
    "        for i in range(passnum):\n",
    "            if alist[i]>alist[i+1]:\n",
    "                temp = alist[i]\n",
    "                alist[i] = alist[i+1]\n",
    "                alist[i+1] = temp\n",
    "\n",
    "def shortBubbleSort(alist):\n",
    "    exchanges = True\n",
    "    passnum = len(alist)-1\n",
    "    while passnum > 0 and exchanges:\n",
    "       exchanges = False\n",
    "       for i in range(passnum):\n",
    "           if alist[i]>alist[i+1]:\n",
    "               exchanges = True\n",
    "               temp = alist[i]\n",
    "               alist[i] = alist[i+1]\n",
    "               alist[i+1] = temp\n",
    "       passnum = passnum-1\n"
   ]
  },
  {
   "cell_type": "code",
   "execution_count": 75,
   "metadata": {},
   "outputs": [
    {
     "name": "stdout",
     "output_type": "stream",
     "text": [
      "[4, 3, 1, 2]\n",
      "[17, 35, 6, 194]\n",
      "[4, 3, 1, 2, 17, 35, 6, 194]\n"
     ]
    }
   ],
   "source": [
    "peck = [4,3,1,2,17, 35, 6, 194]\n",
    "\n",
    "def mergeSort(alist):\n",
    "    if len(alist) > 2: \n",
    "        length = len(alist)//2\n",
    "        left = alist[:length]\n",
    "        right = alist[length:]\n",
    "        mergeSort(left)\n",
    "        mergeSort(right)\n",
    "        print(left + right)\n",
    "\n",
    "mergeSort(peck)\n",
    "\n",
    "\n",
    "# length = len(peck)//2\n",
    "# print(len(peck)//2)\n",
    "\n",
    "# lack = peck[:length]\n",
    "# print(lack)\n",
    "# length2 = len(lack)//2\n",
    "# print(len(lack)//2)\n",
    "# print(peck[:length2])\n",
    "\n",
    "\n",
    "# print(peck[length:])\n",
    "\n",
    "# print(peck)"
   ]
  },
  {
   "cell_type": "code",
   "execution_count": null,
   "metadata": {},
   "outputs": [],
   "source": [
    "def mergeSort(alist):\n",
    "    if len(alist) > 1: \n",
    "        length = len(alist)//2\n",
    "        left = alist[:length]\n",
    "        right = alist[length:]\n",
    "        mergeSort(left)\n",
    "        mergeSort(right)\n",
    "        k = 0 \n",
    "        j = 0 \n",
    "        i = 0\n",
    "        for l in range(len(left)): \n",
    "            if l < left[l]:\n",
    "                #left[i], left[0] = left[0], left[i]\n",
    "                alist[k] = left[l]\n",
    "            k= k+1\n",
    "        for m in range(len(right)): \n",
    "            if i < right[m]:\n",
    "                #right[i], right[0] = right[0], right[i]\n",
    "                alist[k] = right[m]\n",
    "            k= k+1\n",
    "        while i < len(left) and j < len(right):\n",
    "            if left[i] <= right[j]:\n",
    "                alist[k] = left[i]\n",
    "                i=i+1\n",
    "#             else:\n",
    "#                 alist[k]=right[j]\n",
    "#                 j=j+1\n",
    "            k=k+1\n",
    "        #return alist\n",
    "    \n",
    "    \n",
    "peck = [4,3,1,2,17, 35, 6, 194]\n",
    "                    \n",
    "mergeSort(peck)\n",
    "print(peck)"
   ]
  },
  {
   "cell_type": "code",
   "execution_count": 116,
   "metadata": {},
   "outputs": [
    {
     "name": "stdout",
     "output_type": "stream",
     "text": [
      "0\n",
      "1\n",
      "0\n",
      "1\n",
      "2\n",
      "[3, 10, 4, 95, 37]\n"
     ]
    }
   ],
   "source": [
    "peck = [17,3,1,2,4, 35, 6, 194]\n",
    "list1 = [95, 3, 10, 4, 37]\n",
    "\n",
    "def shellSort(peck): \n",
    "    j = 1\n",
    "    pay = 0\n",
    "    passnum = len(peck)//(2**j)\n",
    "\n",
    "    while passnum >= 1:\n",
    "        for i in range(passnum + (2*pay)):\n",
    "            print(i)\n",
    "            if peck[i] > peck[i+passnum]:\n",
    "                peck[i], peck[i+passnum] = peck[i+passnum], peck[i]\n",
    "        j = j + 1\n",
    "        pay = pay + 1\n",
    "        passnum = len(peck)//(2**j) \n",
    "    \n",
    "shellSort(list1)\n",
    "print(list1)"
   ]
  },
  {
   "cell_type": "code",
   "execution_count": 114,
   "metadata": {},
   "outputs": [
    {
     "data": {
      "text/plain": [
       "3"
      ]
     },
     "execution_count": 114,
     "metadata": {},
     "output_type": "execute_result"
    }
   ],
   "source": [
    "7//2"
   ]
  },
  {
   "cell_type": "code",
   "execution_count": 9,
   "metadata": {},
   "outputs": [
    {
     "name": "stdout",
     "output_type": "stream",
     "text": [
      "37\n",
      "1\n",
      "2\n",
      "3\n",
      "4\n"
     ]
    }
   ],
   "source": [
    "def findPivot(alist): \n",
    "    a = alist[0]\n",
    "    b = alist[len(alist)//2]\n",
    "    c = alist[-1]\n",
    "\n",
    "    lists = [a,b,c]\n",
    "    for i in range(len(lists)-1): \n",
    "        if lists[i] > lists[i+1]:\n",
    "            lists[i], lists[i+1] = lists[i+1], lists[i]\n",
    "    return lists[1]\n",
    "\n",
    "def quickSort(alist):\n",
    "    pivot = findPivot(alist)\n",
    "    print(pivot)\n",
    "    if len(alist) > 1: \n",
    "        for i in range(1, len(alist)):\n",
    "            if alist[i] < pivot and pivot alist[len(alist)-1-(i-1)]:\n",
    "                alist[i], alist[len(alist)-1-(i-1)] = alist[len(alist)-1-(i-1)], alist[i] \n",
    "             \n",
    "list1 = [95, 3, 10, 4, 37]\n",
    "quickSort(list1)\n",
    "        "
   ]
  },
  {
   "cell_type": "code",
   "execution_count": 6,
   "metadata": {},
   "outputs": [
    {
     "name": "stdout",
     "output_type": "stream",
     "text": [
      "[95, 10, 37]\n",
      "37\n"
     ]
    }
   ],
   "source": [
    "list1 = [95, 3, 10, 4, 37]\n",
    "a = list1[0]\n",
    "b = list1[len(list1)//2]\n",
    "c = list1[-1]\n",
    "\n",
    "lists = [a,b,c]\n",
    "for i in range(len(lists)-1): \n",
    "    if lists[i] > lists[i+1]:\n",
    "        lists[i], lists[i+1] = lists[i+1], lists[i]\n",
    "print(lists[1])"
   ]
  },
  {
   "cell_type": "code",
   "execution_count": null,
   "metadata": {},
   "outputs": [],
   "source": []
  }
 ],
 "metadata": {
  "kernelspec": {
   "display_name": "Python 3",
   "language": "python",
   "name": "python3"
  },
  "language_info": {
   "codemirror_mode": {
    "name": "ipython",
    "version": 3
   },
   "file_extension": ".py",
   "mimetype": "text/x-python",
   "name": "python",
   "nbconvert_exporter": "python",
   "pygments_lexer": "ipython3",
   "version": "3.7.3"
  }
 },
 "nbformat": 4,
 "nbformat_minor": 4
}
