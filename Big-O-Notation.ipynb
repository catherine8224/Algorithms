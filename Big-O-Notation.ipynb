{
 "cells": [
  {
   "cell_type": "code",
   "execution_count": null,
   "metadata": {},
   "outputs": [],
   "source": [
    "def test1():\n",
    "    l = [l for l in range(1000)]\n",
    "    del l\n",
    "\n",
    "t1 = Timer(\"test1()\", \"from __main__ import test1\")\n",
    "print(\"concat \",t1.timeit(number=1000), \"milliseconds\")\n",
    "\n",
    "def test2():\n",
    "    l= {}\n",
    "    for i in range(1000):\n",
    "        "
   ]
  },
  {
   "cell_type": "code",
   "execution_count": 3,
   "metadata": {},
   "outputs": [
    {
     "name": "stdout",
     "output_type": "stream",
     "text": [
      "10000,     0.066,     0.001\n",
      "30000,     0.163,     0.001\n",
      "50000,     0.287,     0.001\n",
      "70000,     0.398,     0.001\n",
      "90000,     0.491,     0.001\n",
      "110000,     0.629,     0.001\n",
      "130000,     0.717,     0.001\n",
      "150000,     0.859,     0.001\n",
      "170000,     0.945,     0.001\n",
      "190000,     1.121,     0.001\n",
      "210000,     1.214,     0.001\n",
      "230000,     1.316,     0.002\n",
      "250000,     1.672,     0.001\n"
     ]
    },
    {
     "ename": "KeyboardInterrupt",
     "evalue": "",
     "output_type": "error",
     "traceback": [
      "\u001b[0;31m---------------------------------------------------------------------------\u001b[0m",
      "\u001b[0;31mKeyboardInterrupt\u001b[0m                         Traceback (most recent call last)",
      "\u001b[0;32m<ipython-input-3-049d602d92b7>\u001b[0m in \u001b[0;36m<module>\u001b[0;34m\u001b[0m\n\u001b[1;32m      6\u001b[0m                      \"from __main__ import random,x\")\n\u001b[1;32m      7\u001b[0m     \u001b[0mx\u001b[0m \u001b[0;34m=\u001b[0m \u001b[0mlist\u001b[0m\u001b[0;34m(\u001b[0m\u001b[0mrange\u001b[0m\u001b[0;34m(\u001b[0m\u001b[0mi\u001b[0m\u001b[0;34m)\u001b[0m\u001b[0;34m)\u001b[0m\u001b[0;34m\u001b[0m\u001b[0;34m\u001b[0m\u001b[0m\n\u001b[0;32m----> 8\u001b[0;31m     \u001b[0mlst_time\u001b[0m \u001b[0;34m=\u001b[0m \u001b[0mt\u001b[0m\u001b[0;34m.\u001b[0m\u001b[0mtimeit\u001b[0m\u001b[0;34m(\u001b[0m\u001b[0mnumber\u001b[0m\u001b[0;34m=\u001b[0m\u001b[0;36m1000\u001b[0m\u001b[0;34m)\u001b[0m\u001b[0;34m\u001b[0m\u001b[0;34m\u001b[0m\u001b[0m\n\u001b[0m\u001b[1;32m      9\u001b[0m     \u001b[0mx\u001b[0m \u001b[0;34m=\u001b[0m \u001b[0;34m{\u001b[0m\u001b[0mj\u001b[0m\u001b[0;34m:\u001b[0m\u001b[0;32mNone\u001b[0m \u001b[0;32mfor\u001b[0m \u001b[0mj\u001b[0m \u001b[0;32min\u001b[0m \u001b[0mrange\u001b[0m\u001b[0;34m(\u001b[0m\u001b[0mi\u001b[0m\u001b[0;34m)\u001b[0m\u001b[0;34m}\u001b[0m\u001b[0;34m\u001b[0m\u001b[0;34m\u001b[0m\u001b[0m\n\u001b[1;32m     10\u001b[0m     \u001b[0md_time\u001b[0m \u001b[0;34m=\u001b[0m \u001b[0mt\u001b[0m\u001b[0;34m.\u001b[0m\u001b[0mtimeit\u001b[0m\u001b[0;34m(\u001b[0m\u001b[0mnumber\u001b[0m\u001b[0;34m=\u001b[0m\u001b[0;36m1000\u001b[0m\u001b[0;34m)\u001b[0m\u001b[0;34m\u001b[0m\u001b[0;34m\u001b[0m\u001b[0m\n",
      "\u001b[0;32m/anaconda3/lib/python3.7/timeit.py\u001b[0m in \u001b[0;36mtimeit\u001b[0;34m(self, number)\u001b[0m\n\u001b[1;32m    174\u001b[0m         \u001b[0mgc\u001b[0m\u001b[0;34m.\u001b[0m\u001b[0mdisable\u001b[0m\u001b[0;34m(\u001b[0m\u001b[0;34m)\u001b[0m\u001b[0;34m\u001b[0m\u001b[0;34m\u001b[0m\u001b[0m\n\u001b[1;32m    175\u001b[0m         \u001b[0;32mtry\u001b[0m\u001b[0;34m:\u001b[0m\u001b[0;34m\u001b[0m\u001b[0;34m\u001b[0m\u001b[0m\n\u001b[0;32m--> 176\u001b[0;31m             \u001b[0mtiming\u001b[0m \u001b[0;34m=\u001b[0m \u001b[0mself\u001b[0m\u001b[0;34m.\u001b[0m\u001b[0minner\u001b[0m\u001b[0;34m(\u001b[0m\u001b[0mit\u001b[0m\u001b[0;34m,\u001b[0m \u001b[0mself\u001b[0m\u001b[0;34m.\u001b[0m\u001b[0mtimer\u001b[0m\u001b[0;34m)\u001b[0m\u001b[0;34m\u001b[0m\u001b[0;34m\u001b[0m\u001b[0m\n\u001b[0m\u001b[1;32m    177\u001b[0m         \u001b[0;32mfinally\u001b[0m\u001b[0;34m:\u001b[0m\u001b[0;34m\u001b[0m\u001b[0;34m\u001b[0m\u001b[0m\n\u001b[1;32m    178\u001b[0m             \u001b[0;32mif\u001b[0m \u001b[0mgcold\u001b[0m\u001b[0;34m:\u001b[0m\u001b[0;34m\u001b[0m\u001b[0;34m\u001b[0m\u001b[0m\n",
      "\u001b[0;32m/anaconda3/lib/python3.7/timeit.py\u001b[0m in \u001b[0;36minner\u001b[0;34m(_it, _timer)\u001b[0m\n",
      "\u001b[0;31mKeyboardInterrupt\u001b[0m: "
     ]
    }
   ],
   "source": [
    "import timeit\n",
    "\n",
    "import random\n",
    "for i in range(10000,1000001,20000):\n",
    "    t = timeit.Timer(\"random.randrange(%d) in x\"%i,\n",
    "                     \"from __main__ import random,x\")\n",
    "    x = list(range(i))\n",
    "    lst_time = t.timeit(number=1000)\n",
    "    x = {j:None for j in range(i)}\n",
    "    d_time = t.timeit(number=1000)\n",
    "    print(\"%d,%10.3f,%10.3f\" % (i, lst_time, d_time))"
   ]
  },
  {
   "cell_type": "code",
   "execution_count": 92,
   "metadata": {},
   "outputs": [
    {
     "data": {
      "text/plain": [
       "[2, 3, 4, 5, 6]"
      ]
     },
     "execution_count": 92,
     "metadata": {},
     "output_type": "execute_result"
    }
   ],
   "source": [
    "lists = [1, 2, 3, 4, 5, 6]\n",
    "del lists[0]\n",
    "lists"
   ]
  },
  {
   "cell_type": "code",
   "execution_count": 123,
   "metadata": {},
   "outputs": [
    {
     "name": "stdout",
     "output_type": "stream",
     "text": [
      "{2: 2, 3: 3, 4: 4, 5: 5, 6: 6, 7: 7, 8: 8, 9: 9}\n",
      "{3: 3, 4: 4, 5: 5, 6: 6, 7: 7, 8: 8, 9: 9}\n",
      "{4: 4, 5: 5, 6: 6, 7: 7, 8: 8, 9: 9}\n",
      "{5: 5, 6: 6, 7: 7, 8: 8, 9: 9}\n",
      "{6: 6, 7: 7, 8: 8, 9: 9}\n",
      "{7: 7, 8: 8, 9: 9}\n",
      "{8: 8, 9: 9}\n",
      "{9: 9}\n",
      "{}\n"
     ]
    }
   ],
   "source": [
    "#dictionary = dict([('x', 1), ('y', 2)], z=8)\n",
    "#dictionary\n",
    "\n",
    "#del dictionary['x']\n",
    "#dictionary\n",
    "\n",
    "dictionary = {j: j for j in range(1,10)}\n",
    "#print(dictionary)\n",
    "\n",
    "#del dictionary[7]\n",
    "#print(dictionary)\n",
    "for i in range(1,10):\n",
    "    del dictionary[i] \n",
    "    print(dictionary)"
   ]
  },
  {
   "cell_type": "code",
   "execution_count": 155,
   "metadata": {},
   "outputs": [
    {
     "name": "stdout",
     "output_type": "stream",
     "text": [
      "{0: None, 1: None, 2: None, 3: None, 4: None, 5: None, 6: None, 7: None, 8: None, 9: None, 10: None, 11: None, 12: None, 13: None, 14: None, 15: None, 16: None, 17: None, 18: None, 19: None, 20: None, 21: None, 22: None, 23: None, 24: None, 25: None, 26: None, 27: None, 28: None, 29: None, 30: None, 31: None, 32: None, 33: None, 34: None, 35: None, 36: None, 37: None, 38: None, 39: None, 40: None, 41: None, 42: None, 43: None, 44: None, 45: None, 46: None, 47: None, 48: None, 49: None, 50: None, 51: None, 52: None, 53: None, 54: None, 55: None, 56: None, 57: None, 58: None, 59: None, 60: None, 61: None, 62: None, 63: None, 64: None, 65: None, 66: None, 67: None, 68: None, 69: None, 70: None, 71: None, 72: None, 73: None, 74: None, 75: None, 76: None, 77: None, 78: None, 79: None, 80: None, 81: None, 82: None, 83: None, 84: None, 85: None, 86: None, 87: None, 88: None, 89: None, 90: None, 91: None, 92: None, 93: None, 94: None, 95: None, 96: None, 97: None}\n"
     ]
    }
   ],
   "source": [
    "#dictionary = {j: j for j in range(1,10)}\n",
    "#print(dictionary)\n",
    "#print(dictionary.append(1))\n",
    "\n",
    "\n",
    "for i in range(10,100,2):\n",
    "    x= {j: None for j in range(i)}\n",
    "    \n",
    "print(x)"
   ]
  },
  {
   "cell_type": "code",
   "execution_count": 46,
   "metadata": {},
   "outputs": [
    {
     "data": {
      "image/png": "[encoded data removed]",
      "text/plain": [
       "<Figure size 432x288 with 1 Axes>"
      ]
     },
     "metadata": {
      "needs_background": "light"
     },
     "output_type": "display_data"
    }
   ],
   "source": [
    "import timeit\n",
    "import matplotlib.pyplot as plt\n",
    "%matplotlib inline\n",
    "\n",
    "#for i in range(0, 100, 10):\n",
    "#    x = [i]\n",
    "#x = [i for i in range(0, 100, 10)]\n",
    "#print(x)\n",
    "\n",
    "indexing = timeit.Timer(\"x.index(10)\", \"from __main__ import x\")\n",
    "\n",
    "#y = []\n",
    "for n in range(1,100):\n",
    "    x = [10]*n\n",
    "    #time = indexing.timeit(number=1000)\n",
    "    y = [indexing.timeit(number=1000) for n in range(1,100)]\n",
    "\n",
    "plt.scatter(range(1,100), y, s= 1)\n",
    "plt.show()"
   ]
  },
  {
   "cell_type": "code",
   "execution_count": 81,
   "metadata": {},
   "outputs": [
    {
     "data": {
      "image/png": "[encoded data removed]",
      "text/plain": [
       "<Figure size 432x288 with 1 Axes>"
      ]
     },
     "metadata": {
      "needs_background": "light"
     },
     "output_type": "display_data"
    }
   ],
   "source": [
    "import timeit\n",
    "import matplotlib.pyplot as plt\n",
    "\n",
    "setting = timeit.Timer(\"x.get('70')\", \"from __main__ import x\")\n",
    "\n",
    "x = {i: i for i in range(0,100,10)}\n",
    "time2 = [setting.timeit(number=1000) for i in range(0,100,10)]\n",
    "\n",
    "plt.scatter(range(0,10), time2, s=1)\n",
    "plt.show()"
   ]
  },
  {
   "cell_type": "code",
   "execution_count": 82,
   "metadata": {},
   "outputs": [
    {
     "data": {
      "image/png": "[encoded data removed]",
      "text/plain": [
       "<Figure size 432x288 with 1 Axes>"
      ]
     },
     "metadata": {
      "needs_background": "light"
     },
     "output_type": "display_data"
    }
   ],
   "source": [
    "import timeit\n",
    "import matplotlib.pyplot as plt\n",
    "\n",
    "setting = timeit.Timer(\"x.setdefault('110', 110)\", \"from __main__ import x\")\n",
    "\n",
    "x = {i: i for i in range(0,100,10)}\n",
    "time2 = [setting.timeit(number=1000) for i in range(0,100,10)]\n",
    "\n",
    "plt.scatter(range(0,10), time2, s=1)\n",
    "plt.show()"
   ]
  },
  {
   "cell_type": "code",
   "execution_count": 150,
   "metadata": {},
   "outputs": [
    {
     "ename": "TypeError",
     "evalue": "unsupported operand type(s) for *: 'dict' and 'int'",
     "output_type": "error",
     "traceback": [
      "\u001b[0;31m---------------------------------------------------------------------------\u001b[0m",
      "\u001b[0;31mTypeError\u001b[0m                                 Traceback (most recent call last)",
      "\u001b[0;32m<ipython-input-150-458bf27c75d4>\u001b[0m in \u001b[0;36m<module>\u001b[0;34m\u001b[0m\n\u001b[1;32m      5\u001b[0m \u001b[0;34m\u001b[0m\u001b[0m\n\u001b[1;32m      6\u001b[0m \u001b[0;32mfor\u001b[0m \u001b[0mi\u001b[0m \u001b[0;32min\u001b[0m \u001b[0mrange\u001b[0m\u001b[0;34m(\u001b[0m\u001b[0;36m1\u001b[0m\u001b[0;34m,\u001b[0m\u001b[0;36m10\u001b[0m\u001b[0;34m)\u001b[0m\u001b[0;34m:\u001b[0m\u001b[0;34m\u001b[0m\u001b[0;34m\u001b[0m\u001b[0m\n\u001b[0;32m----> 7\u001b[0;31m     \u001b[0mx\u001b[0m \u001b[0;34m=\u001b[0m \u001b[0;34m{\u001b[0m\u001b[0mi\u001b[0m\u001b[0;34m:\u001b[0m \u001b[0mi\u001b[0m \u001b[0;32mfor\u001b[0m \u001b[0mi\u001b[0m \u001b[0;32min\u001b[0m \u001b[0mrange\u001b[0m\u001b[0;34m(\u001b[0m\u001b[0;36m0\u001b[0m\u001b[0;34m,\u001b[0m\u001b[0;36m100\u001b[0m\u001b[0;34m,\u001b[0m\u001b[0;36m10\u001b[0m\u001b[0;34m)\u001b[0m\u001b[0;34m}\u001b[0m\u001b[0;34m*\u001b[0m\u001b[0mi\u001b[0m\u001b[0;34m\u001b[0m\u001b[0;34m\u001b[0m\u001b[0m\n\u001b[0m\u001b[1;32m      8\u001b[0m     \u001b[0mprint\u001b[0m\u001b[0;34m(\u001b[0m\u001b[0mx\u001b[0m\u001b[0;34m)\u001b[0m\u001b[0;34m\u001b[0m\u001b[0;34m\u001b[0m\u001b[0m\n\u001b[1;32m      9\u001b[0m     \u001b[0mtime2\u001b[0m \u001b[0;34m=\u001b[0m \u001b[0;34m[\u001b[0m\u001b[0msetting\u001b[0m\u001b[0;34m.\u001b[0m\u001b[0mtimeit\u001b[0m\u001b[0;34m(\u001b[0m\u001b[0mnumber\u001b[0m\u001b[0;34m=\u001b[0m\u001b[0;36m1\u001b[0m\u001b[0;34m)\u001b[0m \u001b[0;32mfor\u001b[0m \u001b[0mi\u001b[0m \u001b[0;32min\u001b[0m \u001b[0mrange\u001b[0m\u001b[0;34m(\u001b[0m\u001b[0;36m1\u001b[0m\u001b[0;34m,\u001b[0m\u001b[0;36m10\u001b[0m\u001b[0;34m)\u001b[0m\u001b[0;34m]\u001b[0m\u001b[0;34m\u001b[0m\u001b[0;34m\u001b[0m\u001b[0m\n",
      "\u001b[0;31mTypeError\u001b[0m: unsupported operand type(s) for *: 'dict' and 'int'"
     ]
    }
   ],
   "source": [
    "import timeit\n",
    "import matplotlib.pyplot as plt\n",
    "\n",
    "setting = timeit.Timer(\"del x[70]\", \"from __main__ import x\")\n",
    "\n",
    "for i in range(1,10):\n",
    "    x = {i: i for i in range(0,100,10)}*i\n",
    "    print(x)\n",
    "    time2 = [setting.timeit(number=1) for i in range(1,10)]\n",
    "print(time2)\n",
    "\n",
    "plt.scatter(range(1,10), time2, s=1)\n",
    "plt.show()"
   ]
  },
  {
   "cell_type": "code",
   "execution_count": 146,
   "metadata": {},
   "outputs": [
    {
     "name": "stdout",
     "output_type": "stream",
     "text": [
      "[6.378999387379736e-06, 2.8310005291132256e-06, 3.6319997889222577e-06, 3.885999831254594e-06, 3.748000381165184e-06, 2.7290006983093917e-06, 2.684000719455071e-06, 2.6890011213254184e-06, 2.6950001483783126e-06, 2.6599991542752832e-06, 2.692999260034412e-06, 2.696000592550263e-06, 2.6790003175847232e-06, 2.694001523195766e-06, 2.6739999157143757e-06, 3.5099983506370336e-06, 3.6639994505094364e-06, 3.5680004657479003e-06, 3.7459994928212836e-06, 2.6979996619047597e-06, 2.712000423343852e-06, 2.685001163627021e-06, 2.6529996830504388e-06, 2.6680008886614814e-06, 2.6649995561456308e-06, 2.6759989850688726e-06, 2.734999725362286e-06, 2.710999979171902e-06, 2.6849993446376175e-06, 2.6710004021879286e-06, 2.6519992388784885e-06, 2.6539983082329854e-06, 2.6910001906799152e-06, 2.706001396290958e-06, 2.668999513844028e-06, 2.5800000003073364e-06, 7.515998731832951e-06, 3.931998435291462e-06, 4.007999450550415e-06, 3.6159999581286684e-06, 3.6199999158270657e-06, 4.759998773806728e-06, 2.6580000849207863e-06, 2.5720000849105418e-06, 2.585000402177684e-06, 7.161001121858135e-06, 4.055000317748636e-06, 3.4660006349440664e-06, 2.586999471532181e-06, 2.5860008463496342e-06, 2.577999111963436e-06, 3.3689993870211765e-06, 3.86200008506421e-06, 1.2204000086057931e-05, 9.795001460588537e-06, 2.630000381032005e-06, 2.6170000637648627e-06, 2.576000042608939e-06, 2.587999915704131e-06, 2.6189991331193596e-06, 2.573000529082492e-06, 2.568998752394691e-06, 2.5939989427570254e-06, 2.6140005502384156e-06, 2.715998562052846e-06, 3.946001015719958e-06, 2.6099987735506147e-06, 2.552000296418555e-06, 2.5399986043339595e-06, 2.5919998734025285e-06, 5.169000360183418e-06, 2.668999513844028e-06, 2.5860008463496342e-06, 2.6110010367119685e-06, 2.5919998734025285e-06, 2.611999661894515e-06, 2.595999831100926e-06, 2.562999725341797e-06, 2.576000042608939e-06, 2.5839999580057338e-06, 2.5660010578576475e-06, 2.5499994080746546e-06, 2.5890003598760813e-06, 2.5939989427570254e-06, 2.637001671246253e-06, 2.5650006136856973e-06, 2.5420013116672635e-06, 2.5499994080746546e-06, 2.5699991965666413e-06, 2.5669996830401942e-06, 2.5769986677914858e-06, 2.5530007405905053e-06, 2.570001015556045e-06, 2.587999915704131e-06, 2.5859990273602307e-06, 2.5800000003073364e-06, 2.583001332823187e-06, 2.5860008463496342e-06, 3.1950003176461905e-06]\n"
     ]
    },
    {
     "data": {
      "image/png": "[encoded data removed]",
      "text/plain": [
       "<Figure size 432x288 with 1 Axes>"
      ]
     },
     "metadata": {
      "needs_background": "light"
     },
     "output_type": "display_data"
    }
   ],
   "source": [
    "import timeit\n",
    "import matplotlib.pyplot as plt\n",
    "\n",
    "setting = timeit.Timer(\"del x[1]\", \"from __main__ import x\")\n",
    "\n",
    "for i in range(1, 100):\n",
    "    x = [j for j in range(0,100)]*i\n",
    "    #print(x)\n",
    "    time2 = [setting.timeit(number=1) for i in range(1,100)]\n",
    "print(time2)\n",
    "\n",
    "plt.scatter(range(1,100), time2, s=1)\n",
    "plt.show()"
   ]
  }
 ],
 "metadata": {
  "kernelspec": {
   "display_name": "Python 3",
   "language": "python",
   "name": "python3"
  },
  "language_info": {
   "codemirror_mode": {
    "name": "ipython",
    "version": 3
   },
   "file_extension": ".py",
   "mimetype": "text/x-python",
   "name": "python",
   "nbconvert_exporter": "python",
   "pygments_lexer": "ipython3",
   "version": "3.7.3"
  }
 },
 "nbformat": 4,
 "nbformat_minor": 4
}
