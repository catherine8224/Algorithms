{
 "cells": [
  {
   "cell_type": "code",
   "execution_count": 8,
   "metadata": {},
   "outputs": [
    {
     "data": {
      "image/png": "[encoded data removed]",
      "text/plain": [
       "<Figure size 432x288 with 1 Axes>"
      ]
     },
     "metadata": {
      "needs_background": "light"
     },
     "output_type": "display_data"
    }
   ],
   "source": [
    "import numpy as np\n",
    "import matplotlib.pyplot as plt\n",
    "\n",
    "x = np.random.normal(2, 1.0, 1000)\n",
    "\n",
    "plt.hist(x, 10)\n",
    "plt.show()"
   ]
  },
  {
   "cell_type": "code",
   "execution_count": 15,
   "metadata": {},
   "outputs": [
    {
     "data": {
      "image/png": "[encoded data removed]",
      "text/plain": [
       "<Figure size 432x288 with 1 Axes>"
      ]
     },
     "metadata": {
      "needs_background": "light"
     },
     "output_type": "display_data"
    }
   ],
   "source": [
    "y = np.random.uniform(1, 5, 100)\n",
    "\n",
    "plt.hist(y, 10)\n",
    "plt.show()"
   ]
  },
  {
   "cell_type": "code",
   "execution_count": 23,
   "metadata": {},
   "outputs": [
    {
     "name": "stdout",
     "output_type": "stream",
     "text": [
      "[[4.]\n",
      " [8.]]\n"
     ]
    }
   ],
   "source": [
    "arr = np.array([[10, 4, 2], [4, 8, 12]])\n",
    "\n",
    "np.percentile(arr, 50, axis = 0 ) #finds the average between the first row and second row\n",
    "\n",
    "np.percentile(arr, 50, axis=1) #finds the middle between the first column and third column- horizontal vector\n",
    "\n",
    "print(np.percentile(arr, 50, axis=1, keepdims=1)) #keep it in vertical vector"
   ]
  },
  {
   "cell_type": "code",
   "execution_count": 4,
   "metadata": {},
   "outputs": [
    {
     "name": "stdout",
     "output_type": "stream",
     "text": [
      "{\n",
      "\"a\": 23,\n",
      "\"b\": 42,\n",
      "\"c\": 12648430\n",
      "}\n"
     ]
    }
   ],
   "source": [
    "my_mapping = {'a': 23, 'b': 42, 'c': 0xc0ffee}\n",
    "\n",
    "import json\n",
    "\n",
    "print(json.dumps(my_mapping, indent=0, sort_keys=True))"
   ]
  },
  {
   "cell_type": "markdown",
   "metadata": {},
   "source": [
    "# Pretty Printer"
   ]
  },
  {
   "cell_type": "code",
   "execution_count": 20,
   "metadata": {},
   "outputs": [
    {
     "name": "stdout",
     "output_type": "stream",
     "text": [
      "[   ['spam', 'eggs', 'lumberjack', 'knights', 'ni'],\n",
      "    'spam',\n",
      "    'eggs',\n",
      "    'lumberjack',\n",
      "    'knights',\n",
      "    'ni']\n"
     ]
    }
   ],
   "source": [
    "import pprint\n",
    "\n",
    "stuff = ['spam', 'eggs', 'lumberjack', 'knights', 'ni']\n",
    "#pp = pprint.PrettyPrinter(indent=4)\n",
    "#pp.pprint(stuff)\n",
    "\n",
    "stuff.insert(0, stuff[:])\n",
    "\n",
    "# pp = pprint.PrettyPrinter(indent=4)\n",
    "# pp.pprint(stuff)\n",
    "\n",
    "pprint.pprint(stuff, indent=4)"
   ]
  },
  {
   "cell_type": "markdown",
   "metadata": {},
   "source": [
    "# This package provides a periodic table of the elements"
   ]
  },
  {
   "cell_type": "code",
   "execution_count": 5,
   "metadata": {},
   "outputs": [
    {
     "name": "stdout",
     "output_type": "stream",
     "text": [
      "Collecting periodictable\n",
      "Requirement already satisfied: numpy in /anaconda3/lib/python3.7/site-packages (from periodictable) (1.16.2)\n",
      "Requirement already satisfied: pyparsing in /anaconda3/lib/python3.7/site-packages (from periodictable) (2.3.1)\n",
      "Installing collected packages: periodictable\n",
      "Successfully installed periodictable-1.5.2\n"
     ]
    }
   ],
   "source": [
    "!{sys.executable} -m pip install periodictable"
   ]
  },
  {
   "cell_type": "code",
   "execution_count": 9,
   "metadata": {},
   "outputs": [
    {
     "data": {
      "text/plain": [
       "'/anaconda3/bin/python3'"
      ]
     },
     "execution_count": 9,
     "metadata": {},
     "output_type": "execute_result"
    }
   ],
   "source": [
    "import sys\n",
    "sys.executable"
   ]
  },
  {
   "cell_type": "markdown",
   "metadata": {},
   "source": [
    "# Ugly Print"
   ]
  },
  {
   "cell_type": "code",
   "execution_count": 13,
   "metadata": {},
   "outputs": [
    {
     "name": "stdout",
     "output_type": "stream",
     "text": [
      "['Ac', 'Ag', 'Al', 'Am', 'Ar', 'As', 'At', 'Au', 'B', 'Ba', 'Be', 'Bh', 'Bi', 'Bk', 'Br', 'C', 'Ca', 'Cd', 'Ce', 'Cf', 'Cl', 'Cm', 'Cn', 'Co', 'Cr', 'Cs', 'Cu', 'D', 'Db', 'Ds', 'Dy', 'Er', 'Es', 'Eu', 'F', 'Fe', 'Fl', 'Fm', 'Fr', 'Ga', 'Gd', 'Ge', 'H', 'He', 'Hf', 'Hg', 'Ho', 'Hs', 'I', 'In', 'Ir', 'K', 'Kr', 'La', 'Li', 'Lr', 'Lu', 'Lv', 'Mc', 'Md', 'Mg', 'Mn', 'Mo', 'Mt', 'N', 'Na', 'Nb', 'Nd', 'Ne', 'Nh', 'Ni', 'No', 'Np', 'O', 'Og', 'Os', 'P', 'Pa', 'Pb', 'Pd', 'Pm', 'Po', 'Pr', 'Pt', 'Pu', 'Ra', 'Rb', 'Re', 'Rf', 'Rg', 'Rh', 'Rn', 'Ru', 'S', 'Sb', 'Sc', 'Se', 'Sg', 'Si', 'Sm', 'Sn', 'Sr', 'T', 'Ta', 'Tb', 'Tc', 'Te', 'Th', 'Ti', 'Tl', 'Tm', 'Ts', 'U', 'V', 'W', 'Xe', 'Y', 'Yb', 'Zn', 'Zr', '__all__', '__builtins__', '__cached__', '__doc__', '__docformat__', '__file__', '__loader__', '__name__', '__package__', '__path__', '__spec__', '__version__', '_load_covalent_radius', '_load_crystal_structure', '_load_emission_lines', '_load_magnetic_ff', '_load_neutron', '_load_neutron_activation', '_load_xray', 'actinium', 'aluminum', 'americium', 'antimony', 'argon', 'arsenic', 'astatine', 'barium', 'berkelium', 'beryllium', 'bismuth', 'bohrium', 'boron', 'bromine', 'cadmium', 'calcium', 'californium', 'carbon', 'cerium', 'cesium', 'chlorine', 'chromium', 'cobalt', 'constants', 'copernicium', 'copper', 'core', 'curium', 'darmstadtium', 'data_files', 'density', 'deuterium', 'dubnium', 'dysprosium', 'einsteinium', 'elements', 'erbium', 'europium', 'fermium', 'flerovium', 'fluorine', 'formula', 'francium', 'gadolinium', 'gallium', 'germanium', 'gold', 'hafnium', 'hassium', 'helium', 'holmium', 'hydrogen', 'indium', 'iodine', 'iridium', 'iron', 'krypton', 'lanthanum', 'lawrencium', 'lead', 'lithium', 'livermorium', 'lutetium', 'magnesium', 'manganese', 'mass', 'meitnerium', 'mendelevium', 'mercury', 'mix_by_volume', 'mix_by_weight', 'molybdenum', 'moscovium', 'n', 'neodymium', 'neon', 'neptunium', 'neutron', 'neutron_scattering', 'neutron_sld', 'nickel', 'nihonium', 'niobium', 'nitrogen', 'nobelium', 'oganesson', 'osmium', 'oxygen', 'palladium', 'phosphorus', 'platinum', 'plutonium', 'polonium', 'potassium', 'praseodymium', 'promethium', 'protactinium', 'radium', 'radon', 'rhenium', 'rhodium', 'roentgenium', 'rubidium', 'ruthenium', 'rutherfordium', 'samarium', 'scandium', 'seaborgium', 'selenium', 'silicon', 'silver', 'sodium', 'strontium', 'sulfur', 'tantalum', 'technetium', 'tellurium', 'tennessine', 'terbium', 'thallium', 'thorium', 'thulium', 'tin', 'titanium', 'tritium', 'tungsten', 'uranium', 'vanadium', 'xenon', 'xray_sld', 'ytterbium', 'yttrium', 'zinc', 'zirconium']\n"
     ]
    }
   ],
   "source": [
    "import periodictable as ptable\n",
    "import pprint\n",
    "\n",
    "elements = dir(ptable)\n",
    "\n",
    "print(dir(ptable))"
   ]
  },
  {
   "cell_type": "markdown",
   "metadata": {},
   "source": [
    "# Much Prettier through pprint!"
   ]
  },
  {
   "cell_type": "code",
   "execution_count": 17,
   "metadata": {},
   "outputs": [
    {
     "name": "stdout",
     "output_type": "stream",
     "text": [
      "['Ac',\n",
      " 'Ag',\n",
      " 'Al',\n",
      " 'Am',\n",
      " 'Ar',\n",
      " 'As',\n",
      " 'At',\n",
      " 'Au',\n",
      " 'B',\n",
      " 'Ba',\n",
      " 'Be',\n",
      " 'Bh',\n",
      " 'Bi',\n",
      " 'Bk',\n",
      " 'Br',\n",
      " 'C',\n",
      " 'Ca',\n",
      " 'Cd',\n",
      " 'Ce',\n",
      " 'Cf',\n",
      " 'Cl',\n",
      " 'Cm',\n",
      " 'Cn',\n",
      " 'Co',\n",
      " 'Cr',\n",
      " 'Cs',\n",
      " 'Cu',\n",
      " 'D',\n",
      " 'Db',\n",
      " 'Ds',\n",
      " 'Dy',\n",
      " 'Er',\n",
      " 'Es',\n",
      " 'Eu',\n",
      " 'F',\n",
      " 'Fe',\n",
      " 'Fl',\n",
      " 'Fm',\n",
      " 'Fr',\n",
      " 'Ga',\n",
      " 'Gd',\n",
      " 'Ge',\n",
      " 'H',\n",
      " 'He',\n",
      " 'Hf',\n",
      " 'Hg',\n",
      " 'Ho',\n",
      " 'Hs',\n",
      " 'I',\n",
      " 'In',\n",
      " 'Ir',\n",
      " 'K',\n",
      " 'Kr',\n",
      " 'La',\n",
      " 'Li',\n",
      " 'Lr',\n",
      " 'Lu',\n",
      " 'Lv',\n",
      " 'Mc',\n",
      " 'Md',\n",
      " 'Mg',\n",
      " 'Mn',\n",
      " 'Mo',\n",
      " 'Mt',\n",
      " 'N',\n",
      " 'Na',\n",
      " 'Nb',\n",
      " 'Nd',\n",
      " 'Ne',\n",
      " 'Nh',\n",
      " 'Ni',\n",
      " 'No',\n",
      " 'Np',\n",
      " 'O',\n",
      " 'Og',\n",
      " 'Os',\n",
      " 'P',\n",
      " 'Pa',\n",
      " 'Pb',\n",
      " 'Pd',\n",
      " 'Pm',\n",
      " 'Po',\n",
      " 'Pr',\n",
      " 'Pt',\n",
      " 'Pu',\n",
      " 'Ra',\n",
      " 'Rb',\n",
      " 'Re',\n",
      " 'Rf',\n",
      " 'Rg',\n",
      " 'Rh',\n",
      " 'Rn',\n",
      " 'Ru',\n",
      " 'S',\n",
      " 'Sb',\n",
      " 'Sc',\n",
      " 'Se',\n",
      " 'Sg',\n",
      " 'Si',\n",
      " 'Sm',\n",
      " 'Sn',\n",
      " 'Sr',\n",
      " 'T',\n",
      " 'Ta',\n",
      " 'Tb',\n",
      " 'Tc',\n",
      " 'Te',\n",
      " 'Th',\n",
      " 'Ti',\n",
      " 'Tl',\n",
      " 'Tm',\n",
      " 'Ts',\n",
      " 'U',\n",
      " 'V',\n",
      " 'W',\n",
      " 'Xe',\n",
      " 'Y',\n",
      " 'Yb',\n",
      " 'Zn',\n",
      " 'Zr',\n",
      " '__all__',\n",
      " '__builtins__',\n",
      " '__cached__',\n",
      " '__doc__',\n",
      " '__docformat__',\n",
      " '__file__',\n",
      " '__loader__',\n",
      " '__name__',\n",
      " '__package__',\n",
      " '__path__',\n",
      " '__spec__',\n",
      " '__version__',\n",
      " '_load_covalent_radius',\n",
      " '_load_crystal_structure',\n",
      " '_load_emission_lines',\n",
      " '_load_magnetic_ff',\n",
      " '_load_neutron',\n",
      " '_load_neutron_activation',\n",
      " '_load_xray',\n",
      " 'actinium',\n",
      " 'aluminum',\n",
      " 'americium',\n",
      " 'antimony',\n",
      " 'argon',\n",
      " 'arsenic',\n",
      " 'astatine',\n",
      " 'barium',\n",
      " 'berkelium',\n",
      " 'beryllium',\n",
      " 'bismuth',\n",
      " 'bohrium',\n",
      " 'boron',\n",
      " 'bromine',\n",
      " 'cadmium',\n",
      " 'calcium',\n",
      " 'californium',\n",
      " 'carbon',\n",
      " 'cerium',\n",
      " 'cesium',\n",
      " 'chlorine',\n",
      " 'chromium',\n",
      " 'cobalt',\n",
      " 'constants',\n",
      " 'copernicium',\n",
      " 'copper',\n",
      " 'core',\n",
      " 'curium',\n",
      " 'darmstadtium',\n",
      " 'data_files',\n",
      " 'density',\n",
      " 'deuterium',\n",
      " 'dubnium',\n",
      " 'dysprosium',\n",
      " 'einsteinium',\n",
      " 'elements',\n",
      " 'erbium',\n",
      " 'europium',\n",
      " 'fermium',\n",
      " 'flerovium',\n",
      " 'fluorine',\n",
      " 'formula',\n",
      " 'francium',\n",
      " 'gadolinium',\n",
      " 'gallium',\n",
      " 'germanium',\n",
      " 'gold',\n",
      " 'hafnium',\n",
      " 'hassium',\n",
      " 'helium',\n",
      " 'holmium',\n",
      " 'hydrogen',\n",
      " 'indium',\n",
      " 'iodine',\n",
      " 'iridium',\n",
      " 'iron',\n",
      " 'krypton',\n",
      " 'lanthanum',\n",
      " 'lawrencium',\n",
      " 'lead',\n",
      " 'lithium',\n",
      " 'livermorium',\n",
      " 'lutetium',\n",
      " 'magnesium',\n",
      " 'manganese',\n",
      " 'mass',\n",
      " 'meitnerium',\n",
      " 'mendelevium',\n",
      " 'mercury',\n",
      " 'mix_by_volume',\n",
      " 'mix_by_weight',\n",
      " 'molybdenum',\n",
      " 'moscovium',\n",
      " 'n',\n",
      " 'neodymium',\n",
      " 'neon',\n",
      " 'neptunium',\n",
      " 'neutron',\n",
      " 'neutron_scattering',\n",
      " 'neutron_sld',\n",
      " 'nickel',\n",
      " 'nihonium',\n",
      " 'niobium',\n",
      " 'nitrogen',\n",
      " 'nobelium',\n",
      " 'oganesson',\n",
      " 'osmium',\n",
      " 'oxygen',\n",
      " 'palladium',\n",
      " 'phosphorus',\n",
      " 'platinum',\n",
      " 'plutonium',\n",
      " 'polonium',\n",
      " 'potassium',\n",
      " 'praseodymium',\n",
      " 'promethium',\n",
      " 'protactinium',\n",
      " 'radium',\n",
      " 'radon',\n",
      " 'rhenium',\n",
      " 'rhodium',\n",
      " 'roentgenium',\n",
      " 'rubidium',\n",
      " 'ruthenium',\n",
      " 'rutherfordium',\n",
      " 'samarium',\n",
      " 'scandium',\n",
      " 'seaborgium',\n",
      " 'selenium',\n",
      " 'silicon',\n",
      " 'silver',\n",
      " 'sodium',\n",
      " 'strontium',\n",
      " 'sulfur',\n",
      " 'tantalum',\n",
      " 'technetium',\n",
      " 'tellurium',\n",
      " 'tennessine',\n",
      " 'terbium',\n",
      " 'thallium',\n",
      " 'thorium',\n",
      " 'thulium',\n",
      " 'tin',\n",
      " 'titanium',\n",
      " 'tritium',\n",
      " 'tungsten',\n",
      " 'uranium',\n",
      " 'vanadium',\n",
      " 'xenon',\n",
      " 'xray_sld',\n",
      " 'ytterbium',\n",
      " 'yttrium',\n",
      " 'zinc',\n",
      " 'zirconium']\n"
     ]
    }
   ],
   "source": [
    "#pp = pprint.PrettyPrinter()\n",
    "\n",
    "#pp.pprint(elements)\n",
    "\n",
    "pprint.pprint(elements)"
   ]
  },
  {
   "cell_type": "markdown",
   "metadata": {},
   "source": [
    "# SQLITE-Creating a Table"
   ]
  },
  {
   "cell_type": "code",
   "execution_count": 18,
   "metadata": {},
   "outputs": [
    {
     "ename": "OperationalError",
     "evalue": "table SCHOOL already exists",
     "output_type": "error",
     "traceback": [
      "\u001b[0;31m---------------------------------------------------------------------------\u001b[0m",
      "\u001b[0;31mOperationalError\u001b[0m                          Traceback (most recent call last)",
      "\u001b[0;32m<ipython-input-18-eb99415081cc>\u001b[0m in \u001b[0;36m<module>\u001b[0;34m\u001b[0m\n\u001b[1;32m      9\u001b[0m          \u001b[0mCLASS\u001b[0m                 \u001b[0mCHARS\u001b[0m\u001b[0;34m(\u001b[0m\u001b[0;36m50\u001b[0m\u001b[0;34m)\u001b[0m \u001b[0mPRIMARY\u001b[0m \u001b[0mKEY\u001b[0m \u001b[0mNOT\u001b[0m \u001b[0mNULL\u001b[0m\u001b[0;34m,\u001b[0m\u001b[0;34m\u001b[0m\u001b[0;34m\u001b[0m\u001b[0m\n\u001b[1;32m     10\u001b[0m          \u001b[0mPERIOD\u001b[0m                     \u001b[0mINT\u001b[0m    \u001b[0mNOT\u001b[0m \u001b[0mNULL\u001b[0m\u001b[0;34m,\u001b[0m\u001b[0;34m\u001b[0m\u001b[0;34m\u001b[0m\u001b[0m\n\u001b[0;32m---> 11\u001b[0;31m          AVERAGE_SCORE                INT     NOT NULL);''')\n\u001b[0m",
      "\u001b[0;31mOperationalError\u001b[0m: table SCHOOL already exists"
     ]
    }
   ],
   "source": [
    "import sqlite3\n",
    "\n",
    "conn= sqlite3.connect('scatterplot.sqlite')\n",
    "\n",
    "cursor = conn.cursor()\n",
    "\n",
    "cursor.execute('''CREATE TABLE SCHOOL\n",
    "         (\n",
    "         CLASS                 CHARS(50) PRIMARY KEY NOT NULL,\n",
    "         PERIOD                     INT    NOT NULL,\n",
    "         AVERAGE_SCORE                INT     NOT NULL);''')\n"
   ]
  },
  {
   "cell_type": "code",
   "execution_count": 19,
   "metadata": {},
   "outputs": [],
   "source": [
    "cursor.execute(\"INSERT INTO SCHOOL (CLASS, PERIOD, AVERAGE_SCORE) \\\n",
    "      VALUES ('English', 1, 93)\");\n",
    "cursor.execute(\"INSERT INTO SCHOOL (CLASS, PERIOD, AVERAGE_SCORE) \\\n",
    "      VALUES ('Math', 6, 87)\");\n",
    "cursor.execute(\"INSERT INTO SCHOOL (CLASS, PERIOD, AVERAGE_SCORE) \\\n",
    "      VALUES ('History', 2, 70)\");\n",
    "cursor.execute(\"INSERT INTO SCHOOL (CLASS, PERIOD, AVERAGE_SCORE) \\\n",
    "      VALUES ('Computer Science', 4, 62)\");\n",
    "cursor.execute(\"INSERT INTO SCHOOL (CLASS, PERIOD, AVERAGE_SCORE) \\\n",
    "      VALUES ('Arts', 4, 86)\");\n",
    "cursor.execute(\"INSERT INTO SCHOOL (CLASS, PERIOD, AVERAGE_SCORE) \\\n",
    "      VALUES ('Biology', 1, 73)\");\n",
    "cursor.execute(\"INSERT INTO SCHOOL (CLASS, PERIOD, AVERAGE_SCORE) \\\n",
    "      VALUES ('Physics', 3, 73)\");\n",
    "cursor.execute(\"INSERT INTO SCHOOL (CLASS, PERIOD, AVERAGE_SCORE) \\\n",
    "      VALUES ('Chemistry', 1, 80)\");\n",
    "cursor.execute(\"INSERT INTO SCHOOL (CLASS, PERIOD, AVERAGE_SCORE) \\\n",
    "      VALUES ('Spanish', 3, 96)\");"
   ]
  },
  {
   "cell_type": "code",
   "execution_count": 20,
   "metadata": {},
   "outputs": [
    {
     "name": "stdout",
     "output_type": "stream",
     "text": [
      "Class =  English\n",
      "Period =  1\n",
      "Average =  93 \n",
      "\n",
      "Class =  Math\n",
      "Period =  6\n",
      "Average =  87 \n",
      "\n",
      "Class =  History\n",
      "Period =  2\n",
      "Average =  70 \n",
      "\n",
      "Class =  Computer Science\n",
      "Period =  4\n",
      "Average =  62 \n",
      "\n",
      "Class =  Arts\n",
      "Period =  4\n",
      "Average =  86 \n",
      "\n",
      "Class =  Biology\n",
      "Period =  1\n",
      "Average =  73 \n",
      "\n",
      "Class =  Physics\n",
      "Period =  3\n",
      "Average =  73 \n",
      "\n",
      "Class =  Chemistry\n",
      "Period =  1\n",
      "Average =  80 \n",
      "\n",
      "Class =  Spanish\n",
      "Period =  3\n",
      "Average =  96 \n",
      "\n"
     ]
    }
   ],
   "source": [
    "for row in cursor.execute(\"SELECT Class, Period, Average_Score from SCHOOL\"):\n",
    "    print(\"Class = \", row[0])\n",
    "    print(\"Period = \", row[1])\n",
    "    print(\"Average = \", row[2], \"\\n\")\n",
    "    \n",
    "conn.commit()\n",
    "conn.close()"
   ]
  },
  {
   "cell_type": "code",
   "execution_count": 23,
   "metadata": {},
   "outputs": [
    {
     "name": "stdout",
     "output_type": "stream",
     "text": [
      "              CLASS  PERIOD  AVERAGE_SCORE\n",
      "0           English       1             93\n",
      "1              Math       6             87\n",
      "2           History       2             70\n",
      "3  Computer Science       4             62\n",
      "4              Arts       4             86\n",
      "5           Biology       1             73\n",
      "6           Physics       3             73\n",
      "7         Chemistry       1             80\n",
      "8           Spanish       3             96\n",
      "\n",
      "(9, 3)\n",
      "\n",
      "<class 'pandas.core.frame.DataFrame'>\n",
      "RangeIndex: 9 entries, 0 to 8\n",
      "Data columns (total 3 columns):\n",
      "CLASS            9 non-null object\n",
      "PERIOD           9 non-null int64\n",
      "AVERAGE_SCORE    9 non-null int64\n",
      "dtypes: int64(2), object(1)\n",
      "memory usage: 296.0+ bytes\n",
      "None\n",
      "\n",
      "\n",
      "         PERIOD  AVERAGE_SCORE\n",
      "count  9.000000       9.000000\n",
      "mean   2.777778      80.000000\n",
      "std    1.715938      11.357817\n",
      "min    1.000000      62.000000\n",
      "25%    1.000000      73.000000\n",
      "50%    3.000000      80.000000\n",
      "75%    4.000000      87.000000\n",
      "max    6.000000      96.000000\n"
     ]
    }
   ],
   "source": [
    "#!{sys.executable} -m pip install pandas\n",
    "import sqlite3\n",
    "\n",
    "import pandas as pd \n",
    "cnx = sqlite3.connect(r'scatterplot.sqlite')\n",
    "\n",
    "\n",
    "df = pd.read_sql_query(\"SELECT * FROM SCHOOL\", cnx)\n",
    "print(df)\n",
    "print(\"\"*100)\n",
    "print(df.shape) #(0, 3)\n",
    "print(100*\"\")\n",
    "print(df.info())\n",
    "print(\"\\n\")\n",
    "print(df.describe())\n"
   ]
  },
  {
   "cell_type": "code",
   "execution_count": 22,
   "metadata": {},
   "outputs": [
    {
     "data": {
      "image/png": "[encoded data removed]",
      "text/plain": [
       "<Figure size 432x288 with 1 Axes>"
      ]
     },
     "metadata": {
      "needs_background": "light"
     },
     "output_type": "display_data"
    }
   ],
   "source": [
    "import matplotlib.pyplot as plt\n",
    "import seaborn as sns\n",
    "\n",
    "sns.boxplot(data = df.loc[:,[\"PERIOD\",'AVERAGE_SCORE']])\n",
    "plt.title(\"Seaborn boxplot\")\n",
    "plt.show()"
   ]
  },
  {
   "cell_type": "code",
   "execution_count": 25,
   "metadata": {},
   "outputs": [
    {
     "data": {
      "text/plain": [
       "<matplotlib.axes._subplots.AxesSubplot at 0x1a18e6bf28>"
      ]
     },
     "execution_count": 25,
     "metadata": {},
     "output_type": "execute_result"
    },
    {
     "data": {
      "image/png": "[encoded data removed]",
      "text/plain": [
       "<Figure size 432x288 with 1 Axes>"
      ]
     },
     "metadata": {
      "needs_background": "light"
     },
     "output_type": "display_data"
    }
   ],
   "source": [
    "sns.scatterplot(x=\"PERIOD\", y=\"AVERAGE_SCORE\", hue=\"CLASS\", data=df)"
   ]
  },
  {
   "cell_type": "code",
   "execution_count": 27,
   "metadata": {},
   "outputs": [
    {
     "data": {
      "text/plain": [
       "<seaborn.axisgrid.JointGrid at 0x1a192209b0>"
      ]
     },
     "execution_count": 27,
     "metadata": {},
     "output_type": "execute_result"
    },
    {
     "data": {
      "image/png": "[encoded data removed]",
      "text/plain": [
       "<Figure size 432x432 with 3 Axes>"
      ]
     },
     "metadata": {
      "needs_background": "light"
     },
     "output_type": "display_data"
    }
   ],
   "source": [
    "sns.jointplot(x=\"PERIOD\", y=\"AVERAGE_SCORE\", data=df)"
   ]
  },
  {
   "cell_type": "code",
   "execution_count": 29,
   "metadata": {},
   "outputs": [
    {
     "data": {
      "image/png": "[encoded data removed]",
      "text/plain": [
       "<Figure size 432x288 with 1 Axes>"
      ]
     },
     "metadata": {
      "needs_background": "light"
     },
     "output_type": "display_data"
    }
   ],
   "source": [
    "import numpy as np\n",
    "\n",
    "fig, ax = plt.subplots()  \n",
    "### Generating random data  \n",
    "x = np.random.rand(200)   \n",
    "sns.kdeplot(x, shade=True, ax=ax)  \n",
    "plt.show()  "
   ]
  },
  {
   "cell_type": "code",
   "execution_count": 31,
   "metadata": {},
   "outputs": [],
   "source": [
    "sns.barplot(x, ax=ax)"
   ]
  },
  {
   "cell_type": "code",
   "execution_count": null,
   "metadata": {},
   "outputs": [],
   "source": []
  }
 ],
 "metadata": {
  "kernelspec": {
   "display_name": "Python 3",
   "language": "python",
   "name": "python3"
  },
  "language_info": {
   "codemirror_mode": {
    "name": "ipython",
    "version": 3
   },
   "file_extension": ".py",
   "mimetype": "text/x-python",
   "name": "python",
   "nbconvert_exporter": "python",
   "pygments_lexer": "ipython3",
   "version": "3.7.3"
  }
 },
 "nbformat": 4,
 "nbformat_minor": 4
}
