{
 "cells": [
  {
   "cell_type": "code",
   "execution_count": 48,
   "metadata": {},
   "outputs": [
    {
     "name": "stdout",
     "output_type": "stream",
     "text": [
      "[ 0  1  2  3  4  5  6  7  8  9 10 11 12 13 14]\n",
      "(5, 3)\n",
      "2\n"
     ]
    },
    {
     "data": {
      "text/plain": [
       "8"
      ]
     },
     "execution_count": 48,
     "metadata": {},
     "output_type": "execute_result"
    }
   ],
   "source": [
    "import numpy as np\n",
    "a = np.arange(15)\n",
    "print(a)\n",
    "a= a.reshape(5,3)\n",
    "\n",
    "print(a.shape)\n",
    "print(a.ndim)\n",
    "\n",
    "a.dtype.name\n",
    "a.itemsize"
   ]
  },
  {
   "cell_type": "code",
   "execution_count": 11,
   "metadata": {},
   "outputs": [
    {
     "data": {
      "text/plain": [
       "3"
      ]
     },
     "execution_count": 11,
     "metadata": {},
     "output_type": "execute_result"
    }
   ],
   "source": [
    "random = [1, 3, 5, 2, 4]\n",
    "#random_sort = sorted(random)\n",
    "\n",
    "def smallest(l, num):\n",
    "    random_sort = sorted(l)\n",
    "    return random_sort[num-1] \n",
    "\n",
    "smallest(random, 3)"
   ]
  },
  {
   "cell_type": "code",
   "execution_count": 27,
   "metadata": {},
   "outputs": [],
   "source": [
    "class Deck:\n",
    "    def __init__(self, card):\n",
    "        #for i in range(1, 11):\n",
    "        #    card = [i+'H', i+'S', i+'C', i+'D']\n",
    "        if card[0] not in '1234567890JQK' and card[1] not in 'HDCS':\n",
    "            print(\"ERROR\")\n",
    "        else:\n",
    "            self.cards = card\n",
    "    def __str__(self):\n",
    "        return str(self.cards)"
   ]
  },
  {
   "cell_type": "code",
   "execution_count": 28,
   "metadata": {},
   "outputs": [
    {
     "name": "stdout",
     "output_type": "stream",
     "text": [
      "1H\n"
     ]
    }
   ],
   "source": [
    "card = Deck('1H')\n",
    "print(card)"
   ]
  },
  {
   "cell_type": "code",
   "execution_count": 18,
   "metadata": {},
   "outputs": [
    {
     "name": "stdout",
     "output_type": "stream",
     "text": [
      "USING SQUARE BRACKETS:  0.10122364199992262\n",
      "USING LIST FUNCTION:  0.17315125199991144\n",
      "Square: \n",
      " [[7 6 9]\n",
      " [4 0 0]\n",
      " [0 0 0]]\n",
      "Square: \n",
      " [[7 6 9]\n",
      " [4 0 0]\n",
      " [0 0 0]]\n",
      "Square: \n",
      " [[7 6 9]\n",
      " [4 0 0]\n",
      " [0 0 0]]\n",
      "Square: \n",
      " [[7 6 9]\n",
      " [4 0 0]\n",
      " [0 0 0]]\n"
     ]
    },
    {
     "ename": "TypeError",
     "evalue": "'NoneType' object is not subscriptable",
     "output_type": "error",
     "traceback": [
      "\u001b[0;31m---------------------------------------------------------------------------\u001b[0m",
      "\u001b[0;31mTypeError\u001b[0m                                 Traceback (most recent call last)",
      "\u001b[0;32m<ipython-input-18-4b8eaf83da62>\u001b[0m in \u001b[0;36m<module>\u001b[0;34m\u001b[0m\n\u001b[1;32m     69\u001b[0m         \u001b[0;32mif\u001b[0m \u001b[0;34m(\u001b[0m\u001b[0mtest\u001b[0m\u001b[0;34m[\u001b[0m\u001b[0;36m0\u001b[0m\u001b[0;34m]\u001b[0m\u001b[0;34m)\u001b[0m\u001b[0;34m:\u001b[0m\u001b[0;34m\u001b[0m\u001b[0;34m\u001b[0m\u001b[0m\n\u001b[1;32m     70\u001b[0m             \u001b[0;32mreturn\u001b[0m\u001b[0;34m(\u001b[0m\u001b[0mtest\u001b[0m\u001b[0;34m)\u001b[0m\u001b[0;34m\u001b[0m\u001b[0;34m\u001b[0m\u001b[0m\n\u001b[0;32m---> 71\u001b[0;31m \u001b[0mprint\u001b[0m\u001b[0;34m(\u001b[0m\u001b[0msolver_python\u001b[0m\u001b[0;34m(\u001b[0m\u001b[0msudoku_puzzle\u001b[0m\u001b[0;34m)\u001b[0m\u001b[0;34m)\u001b[0m\u001b[0;34m\u001b[0m\u001b[0;34m\u001b[0m\u001b[0m\n\u001b[0m",
      "\u001b[0;32m<ipython-input-18-4b8eaf83da62>\u001b[0m in \u001b[0;36msolver_python\u001b[0;34m(sudoku_puzzle)\u001b[0m\n\u001b[1;32m     66\u001b[0m     \u001b[0;32mfor\u001b[0m \u001b[0mvalue\u001b[0m \u001b[0;32min\u001b[0m \u001b[0mvalues\u001b[0m\u001b[0;34m:\u001b[0m\u001b[0;34m\u001b[0m\u001b[0;34m\u001b[0m\u001b[0m\n\u001b[1;32m     67\u001b[0m         \u001b[0mgrid_temp\u001b[0m\u001b[0;34m[\u001b[0m\u001b[0mi\u001b[0m\u001b[0;34m,\u001b[0m\u001b[0mj\u001b[0m\u001b[0;34m]\u001b[0m \u001b[0;34m=\u001b[0m \u001b[0mvalue\u001b[0m\u001b[0;34m\u001b[0m\u001b[0;34m\u001b[0m\u001b[0m\n\u001b[0;32m---> 68\u001b[0;31m         \u001b[0mtest\u001b[0m \u001b[0;34m=\u001b[0m \u001b[0msolver_python\u001b[0m\u001b[0;34m(\u001b[0m\u001b[0mgrid_temp\u001b[0m\u001b[0;34m)\u001b[0m\u001b[0;34m\u001b[0m\u001b[0;34m\u001b[0m\u001b[0m\n\u001b[0m\u001b[1;32m     69\u001b[0m         \u001b[0;32mif\u001b[0m \u001b[0;34m(\u001b[0m\u001b[0mtest\u001b[0m\u001b[0;34m[\u001b[0m\u001b[0;36m0\u001b[0m\u001b[0;34m]\u001b[0m\u001b[0;34m)\u001b[0m\u001b[0;34m:\u001b[0m\u001b[0;34m\u001b[0m\u001b[0;34m\u001b[0m\u001b[0m\n\u001b[1;32m     70\u001b[0m             \u001b[0;32mreturn\u001b[0m\u001b[0;34m(\u001b[0m\u001b[0mtest\u001b[0m\u001b[0;34m)\u001b[0m\u001b[0;34m\u001b[0m\u001b[0;34m\u001b[0m\u001b[0m\n",
      "\u001b[0;32m<ipython-input-18-4b8eaf83da62>\u001b[0m in \u001b[0;36msolver_python\u001b[0;34m(sudoku_puzzle)\u001b[0m\n\u001b[1;32m     66\u001b[0m     \u001b[0;32mfor\u001b[0m \u001b[0mvalue\u001b[0m \u001b[0;32min\u001b[0m \u001b[0mvalues\u001b[0m\u001b[0;34m:\u001b[0m\u001b[0;34m\u001b[0m\u001b[0;34m\u001b[0m\u001b[0m\n\u001b[1;32m     67\u001b[0m         \u001b[0mgrid_temp\u001b[0m\u001b[0;34m[\u001b[0m\u001b[0mi\u001b[0m\u001b[0;34m,\u001b[0m\u001b[0mj\u001b[0m\u001b[0;34m]\u001b[0m \u001b[0;34m=\u001b[0m \u001b[0mvalue\u001b[0m\u001b[0;34m\u001b[0m\u001b[0;34m\u001b[0m\u001b[0m\n\u001b[0;32m---> 68\u001b[0;31m         \u001b[0mtest\u001b[0m \u001b[0;34m=\u001b[0m \u001b[0msolver_python\u001b[0m\u001b[0;34m(\u001b[0m\u001b[0mgrid_temp\u001b[0m\u001b[0;34m)\u001b[0m\u001b[0;34m\u001b[0m\u001b[0;34m\u001b[0m\u001b[0m\n\u001b[0m\u001b[1;32m     69\u001b[0m         \u001b[0;32mif\u001b[0m \u001b[0;34m(\u001b[0m\u001b[0mtest\u001b[0m\u001b[0;34m[\u001b[0m\u001b[0;36m0\u001b[0m\u001b[0;34m]\u001b[0m\u001b[0;34m)\u001b[0m\u001b[0;34m:\u001b[0m\u001b[0;34m\u001b[0m\u001b[0;34m\u001b[0m\u001b[0m\n\u001b[1;32m     70\u001b[0m             \u001b[0;32mreturn\u001b[0m\u001b[0;34m(\u001b[0m\u001b[0mtest\u001b[0m\u001b[0;34m)\u001b[0m\u001b[0;34m\u001b[0m\u001b[0;34m\u001b[0m\u001b[0m\n",
      "\u001b[0;32m<ipython-input-18-4b8eaf83da62>\u001b[0m in \u001b[0;36msolver_python\u001b[0;34m(sudoku_puzzle)\u001b[0m\n\u001b[1;32m     67\u001b[0m         \u001b[0mgrid_temp\u001b[0m\u001b[0;34m[\u001b[0m\u001b[0mi\u001b[0m\u001b[0;34m,\u001b[0m\u001b[0mj\u001b[0m\u001b[0;34m]\u001b[0m \u001b[0;34m=\u001b[0m \u001b[0mvalue\u001b[0m\u001b[0;34m\u001b[0m\u001b[0;34m\u001b[0m\u001b[0m\n\u001b[1;32m     68\u001b[0m         \u001b[0mtest\u001b[0m \u001b[0;34m=\u001b[0m \u001b[0msolver_python\u001b[0m\u001b[0;34m(\u001b[0m\u001b[0mgrid_temp\u001b[0m\u001b[0;34m)\u001b[0m\u001b[0;34m\u001b[0m\u001b[0;34m\u001b[0m\u001b[0m\n\u001b[0;32m---> 69\u001b[0;31m         \u001b[0;32mif\u001b[0m \u001b[0;34m(\u001b[0m\u001b[0mtest\u001b[0m\u001b[0;34m[\u001b[0m\u001b[0;36m0\u001b[0m\u001b[0;34m]\u001b[0m\u001b[0;34m)\u001b[0m\u001b[0;34m:\u001b[0m\u001b[0;34m\u001b[0m\u001b[0;34m\u001b[0m\u001b[0m\n\u001b[0m\u001b[1;32m     70\u001b[0m             \u001b[0;32mreturn\u001b[0m\u001b[0;34m(\u001b[0m\u001b[0mtest\u001b[0m\u001b[0;34m)\u001b[0m\u001b[0;34m\u001b[0m\u001b[0;34m\u001b[0m\u001b[0m\n\u001b[1;32m     71\u001b[0m \u001b[0mprint\u001b[0m\u001b[0;34m(\u001b[0m\u001b[0msolver_python\u001b[0m\u001b[0;34m(\u001b[0m\u001b[0msudoku_puzzle\u001b[0m\u001b[0;34m)\u001b[0m\u001b[0;34m)\u001b[0m\u001b[0;34m\u001b[0m\u001b[0;34m\u001b[0m\u001b[0m\n",
      "\u001b[0;31mTypeError\u001b[0m: 'NoneType' object is not subscriptable"
     ]
    }
   ],
   "source": [
    "import numpy as np\n",
    "from timeit import timeit\n",
    "from functools import reduce\n",
    "\n",
    "#Sudoku Puzzle\n",
    "first = [7, 6, 9, 8, 0, 0, 3, 0, 0]\n",
    "first = list((7, 6, 9, 8, 0, 0, 3, 0, 0))\n",
    "\n",
    "#test = \"my_list = [0 for i in range(50)]\"\n",
    "#print(timeit(test))\n",
    "\n",
    "test = \"first = [7, 6, 9, 8, 0, 0, 3, 0, 0]\"\n",
    "print(\"USING SQUARE BRACKETS: \", timeit(test)) #this take shorter amount of time. \n",
    "\n",
    "test = \"first = list((7, 6, 9, 8, 0, 0, 3, 0, 0))\"\n",
    "print(\"USING LIST FUNCTION: \", timeit(test)) #this takes longer to do\n",
    "\n",
    "second = [4,0,0,0,0,0,0,7,0]\n",
    "third = [0,0,0,7,0,5,0,0,6]\n",
    "fourth = [0,9,0, 0,7,0, 0,0,2]\n",
    "fifth = [0,0,3, 0,7,0, 0,0,2]\n",
    "sixth = [6,0,0, 0,8,0, 0,4,0]\n",
    "seventh = [1,0,0, 2,0,6, 0,0,0]\n",
    "eighth = [0,3,0, 0,0,0, 0,0,4]\n",
    "ninth = [0,0,2,0,0,8,7,6,1]\n",
    "\n",
    "#Comment out Mulitple Lines of Code == Ctrl + /\n",
    "# second = [[4,0,0], [0,0,0], [0,7,0]]\n",
    "# third = [[0,0,0], [7,0,5], [0,0,6]]\n",
    "# fourth = [[0,9,0], [0,7,0], [0,0,2]]\n",
    "# fifth = [[0,0,3], [0,7,0], [0,0,2]]\n",
    "# sixth = [[6,0,0], [0,8,0], [0,4,0]]\n",
    "# seventh = [[1,0,0], [2,0,6], [0,0,0]]\n",
    "# eighth = [[0,3,0], [0,0,0], [0,0,4]]\n",
    "# ninth = [[0,0,2], [0,0,8], [7,6,1]]\n",
    "\n",
    "box1= first[0], second[0], third[0]\n",
    "sudoku_puzzle = np.array([first, second, third, fourth, fifth, sixth, seventh, eighth, ninth])\n",
    "\n",
    "def solver_python(sudoku_puzzle):\n",
    "\n",
    "    numbers = np.arange(1,10)\n",
    "    i, j = np.where(sudoku_puzzle==0)\n",
    "    #print(i.size) #52\n",
    "    #print(j.size) #52\n",
    "\n",
    "    i,j = i[0], j[0]\n",
    "\n",
    "    row = sudoku_puzzle[i, :]\n",
    "    col = sudoku_puzzle[:, j]\n",
    "\n",
    "    square = sudoku_puzzle[:3,:3]\n",
    "    #print(row)\n",
    "    #print(col)\n",
    "    print(\"Square: \\n\", square)\n",
    "    #print(j)\n",
    "\n",
    "    sqr = sudoku_puzzle[(i//3)*3:(3+(i//3)*3),(j//3)*3:(3+(j//3)*3)]\n",
    "    values = np.setdiff1d(numbers,reduce(np.union1d,(row,col,sqr)))\n",
    "\n",
    "    grid_temp = np.copy(sudoku_puzzle) \n",
    "\n",
    "    for value in values:\n",
    "        grid_temp[i,j] = value\n",
    "        test = solver_python(grid_temp)\n",
    "        if (test[0]):\n",
    "            return(test)\n",
    "print(solver_python(sudoku_puzzle))"
   ]
  },
  {
   "cell_type": "code",
   "execution_count": 27,
   "metadata": {},
   "outputs": [
    {
     "data": {
      "text/plain": [
       "(array([0, 0, 0, 1, 1]), array([0, 1, 2, 1, 2]))"
      ]
     },
     "execution_count": 27,
     "metadata": {},
     "output_type": "execute_result"
    }
   ],
   "source": [
    "mat = np.array([[0,0,0],[1,0,0]])\n",
    "np.where(mat==0)\n"
   ]
  },
  {
   "cell_type": "code",
   "execution_count": 70,
   "metadata": {},
   "outputs": [
    {
     "name": "stdout",
     "output_type": "stream",
     "text": [
      "REVISED SUDOKU: \n",
      " [[7 6 9 8 0 0 3 0 0]\n",
      " [4 0 0 0 0 0 0 7 0]\n",
      " [0 0 0 7 0 5 0 0 6]\n",
      " [0 9 0 0 7 0 0 0 2]\n",
      " [0 0 3 0 7 0 0 0 2]\n",
      " [6 0 0 0 8 0 0 4 0]\n",
      " [1 0 0 2 0 6 0 0 0]\n",
      " [0 3 0 0 0 0 0 0 4]\n",
      " [0 0 2 0 0 8 7 6 1]]\n",
      "[[7 6 9]\n",
      " [4 0 0]\n",
      " [0 0 0]]\n",
      "[[ 8  7 10  9  1  1  4  1  1]\n",
      " [ 5  1  1  1  1  1  1  8  1]\n",
      " [ 1  1  1  8  1  6  1  1  7]\n",
      " [ 1 10  1  1  8  1  1  1  3]\n",
      " [ 1  1  4  1  8  1  1  1  3]\n",
      " [ 7  1  1  1  9  1  1  5  1]\n",
      " [ 2  1  1  3  1  7  1  1  1]\n",
      " [ 1  4  1  1  1  1  1  1  5]\n",
      " [ 1  1  3  1  1  9  8  7  2]]\n"
     ]
    },
    {
     "ename": "ValueError",
     "evalue": "setting an array element with a sequence.",
     "output_type": "error",
     "traceback": [
      "\u001b[0;31m---------------------------------------------------------------------------\u001b[0m",
      "\u001b[0;31mValueError\u001b[0m                                Traceback (most recent call last)",
      "\u001b[0;32m<ipython-input-70-cf8291a3dee6>\u001b[0m in \u001b[0;36m<module>\u001b[0;34m\u001b[0m\n\u001b[1;32m     32\u001b[0m             \u001b[0mP\u001b[0m \u001b[0;34m=\u001b[0m \u001b[0mP\u001b[0m \u001b[0;34m+\u001b[0m \u001b[0;36m1\u001b[0m\u001b[0;34m\u001b[0m\u001b[0;34m\u001b[0m\u001b[0m\n\u001b[1;32m     33\u001b[0m             \u001b[0mprint\u001b[0m\u001b[0;34m(\u001b[0m\u001b[0mP\u001b[0m\u001b[0;34m)\u001b[0m\u001b[0;34m\u001b[0m\u001b[0;34m\u001b[0m\u001b[0m\n\u001b[0;32m---> 34\u001b[0;31m             \u001b[0mP\u001b[0m\u001b[0;34m[\u001b[0m\u001b[0mrow\u001b[0m\u001b[0;34m]\u001b[0m\u001b[0;34m[\u001b[0m\u001b[0mcolumn\u001b[0m\u001b[0;34m]\u001b[0m \u001b[0;34m=\u001b[0m \u001b[0mlist\u001b[0m\u001b[0;34m(\u001b[0m\u001b[0mc\u001b[0m \u001b[0;34m-\u001b[0m \u001b[0mset\u001b[0m\u001b[0;34m(\u001b[0m\u001b[0msudoku\u001b[0m\u001b[0;34m[\u001b[0m\u001b[0mrowStart\u001b[0m\u001b[0;34m:\u001b[0m\u001b[0mrowStart\u001b[0m\u001b[0;34m+\u001b[0m\u001b[0;36m3\u001b[0m\u001b[0;34m,\u001b[0m \u001b[0mcolStart\u001b[0m\u001b[0;34m:\u001b[0m\u001b[0mcolStart\u001b[0m\u001b[0;34m+\u001b[0m\u001b[0;36m3\u001b[0m\u001b[0;34m]\u001b[0m\u001b[0;34m.\u001b[0m\u001b[0mflatten\u001b[0m\u001b[0;34m(\u001b[0m\u001b[0;34m)\u001b[0m\u001b[0;34m)\u001b[0m\u001b[0;34m)\u001b[0m\u001b[0;34m\u001b[0m\u001b[0;34m\u001b[0m\u001b[0m\n\u001b[0m\u001b[1;32m     35\u001b[0m             \u001b[0;31m#print(list(c - set(sudoku[rowStart:rowStart+3, colStart:colStart+3].flatten())))\u001b[0m\u001b[0;34m\u001b[0m\u001b[0;34m\u001b[0m\u001b[0;34m\u001b[0m\u001b[0m\n\u001b[1;32m     36\u001b[0m \u001b[0;34m\u001b[0m\u001b[0m\n",
      "\u001b[0;31mValueError\u001b[0m: setting an array element with a sequence."
     ]
    }
   ],
   "source": [
    "first = [7, 6, 9, 8, 0, 0, 3, 0, 0]\n",
    "second = [4,0,0,0,0,0,0,7,0]\n",
    "third = [0,0,0,7,0,5,0,0,6]\n",
    "fourth = [0,9,0, 0,7,0, 0,0,2]\n",
    "fifth = [0,0,3, 0,7,0, 0,0,2]\n",
    "sixth = [6,0,0, 0,8,0, 0,4,0]\n",
    "seventh = [1,0,0, 2,0,6, 0,0,0]\n",
    "eighth = [0,3,0, 0,0,0, 0,0,4]\n",
    "ninth = [0,0,2,0,0,8,7,6,1]\n",
    "\n",
    "bam = first+second+third+fourth+fifth+sixth+seventh+eighth+ninth\n",
    "sudoku1= np.array([bam]).reshape(9,9)\n",
    "print(\"REVISED SUDOKU: \\n\", sudoku1)\n",
    "\n",
    "#colum = sudoku[:, 0:2]\n",
    "#print(colum)\n",
    "\n",
    "sudoku = np.array([first, second, third, fourth, fifth, sixth, seventh, eighth, ninth])\n",
    "#print(sudoku)\n",
    "print(sudoku[0:3, 0:3])\n",
    "np.where(sudoku==0)\n",
    "\n",
    "fullSet = {1, 2, 3, 4, 5, 6, 7, 8, 9}\n",
    "for row in range(0,9):\n",
    "    for column in range(0,9):\n",
    "        if sudoku1[row][column] == 0:\n",
    "            r = fullSet - set(sudoku[row])\n",
    "            c = r - set(sudoku[:, column])\n",
    "            rowStart = (row//3) * 3\n",
    "            colStart = (column//3) * 3\n",
    "            P = np.copy(sudoku)\n",
    "            P = P + 1\n",
    "            print(P)\n",
    "            P[row][column] = list(c - set(sudoku[rowStart:rowStart+3, colStart:colStart+3].flatten()))\n",
    "            #print(list(c - set(sudoku[rowStart:rowStart+3, colStart:colStart+3].flatten())))\n",
    "\n",
    "            "
   ]
  },
  {
   "cell_type": "code",
   "execution_count": 147,
   "metadata": {},
   "outputs": [
    {
     "name": "stdout",
     "output_type": "stream",
     "text": [
      "[array([1, 2, 3, 5, 8]), array([1, 2, 3, 4, 5]), array([1, 2, 3, 4, 5, 6]), array([1, 2, 3, 4, 6, 9]), array([1, 2, 4, 6, 7, 8, 9]), array([1, 2, 4, 6, 8, 9]), array([1, 2, 4, 5, 8, 9]), array([1, 2, 3, 5, 6, 7, 8]), array([1, 2, 3, 4, 5, 6, 8]), array([1, 2, 3, 4, 5, 6, 8, 9]), array([1, 2, 3, 4, 6, 8, 9]), array([1, 2, 3, 4, 6, 8, 9]), array([1, 2, 3, 4, 6, 8, 9]), array([1, 3, 4, 5, 8, 9]), array([1, 2, 4, 5, 6, 7, 8]), array([1, 2, 4, 5, 6, 8]), array([1, 2, 4, 5, 6, 8, 9]), array([1, 2, 3, 4, 6, 8, 9]), array([1, 2, 3, 4, 6, 8, 9]), array([1, 2, 3, 4, 6, 7, 8, 9]), array([1, 3, 4, 5, 7, 8, 9]), array([1, 2, 4, 5, 7, 8]), array([1, 2, 4, 5, 6, 7, 8]), array([1, 2, 4, 5, 6, 9]), array([1, 2, 3, 4, 5, 6, 9]), array([1, 2, 3, 4, 5, 6, 9]), array([1, 2, 3, 5, 6, 7, 8, 9]), array([1, 3, 5, 6, 7, 8, 9]), array([2, 4, 5, 7, 8, 9]), array([1, 4, 5, 6, 7, 8, 9]), array([1, 4, 5, 6, 9]), array([1, 3, 4, 5, 9]), array([1, 2, 3, 4, 5, 9]), array([1, 2, 3, 5, 7, 8, 9]), array([1, 3, 5, 6, 7, 8, 9]), array([2, 4, 5, 7, 8, 9]), array([1, 4, 5, 6, 7, 8, 9]), array([1, 3, 4, 5, 6, 7, 9]), array([1, 3, 4, 5, 7, 9]), array([1, 2, 3, 4, 5, 7, 9]), array([1, 2, 3, 5, 7, 8, 9]), array([1, 2, 3, 5, 6, 7, 8, 9]), array([4, 5, 6, 7, 8, 9]), array([1, 4, 5, 6, 7, 8, 9]), array([1, 3, 4, 5, 6, 7, 8, 9]), array([1, 3, 4, 5, 7, 9]), array([1, 2, 3, 4, 5, 9]), array([1, 2, 3, 4, 5, 9]), array([2, 3, 5, 8, 9]), array([1, 4, 5, 6, 7, 8, 9]), array([1, 4, 5, 6, 7, 8, 9]), array([1, 3, 4, 5, 6, 7, 8, 9]), array([1, 2, 3, 4, 5, 6, 7, 9]), array([1, 2, 3, 4, 5, 6, 9]), array([1, 2, 3, 4, 5, 9]), array([2, 3, 5, 8, 9]), array([1, 3, 4, 5, 6, 7, 8, 9]), array([1, 3, 4, 5, 6, 7, 8, 9]), array([1, 3, 4, 5, 6, 7, 8, 9]), array([1, 2, 3, 4, 5, 6, 7, 9]), array([1, 2, 3, 4, 5, 6, 9]), array([1, 2, 3, 4, 5, 9]), array([2, 3, 4, 5, 8, 9])]\n",
      "[1 3 2]\n",
      "2\n",
      "[7 6 9 8 2 2 3 2 2]\n",
      "[7 6 9 8 2 2 3 2 2]\n",
      "[7 6 9 8 2 2 3 2 2]\n",
      "[7 6 9 8 2 2 3 2 2]\n",
      "4\n",
      "[7 6 9 8 4 4 3 4 4]\n",
      "[7 6 9 8 4 4 3 4 4]\n",
      "[7 6 9 8 4 4 3 4 4]\n",
      "[7 6 9 8 4 4 3 4 4]\n",
      "[7 6 9 8 4 4 3 4 4]\n",
      "[7 6 9 8 4 4 3 4 4]\n",
      "[7 6 9 8 4 4 3 4 4]\n",
      "5\n",
      "[7 6 9 8 5 5 3 5 5]\n",
      "[7 6 9 8 5 5 3 5 5]\n",
      "[7 6 9 8 5 5 3 5 5]\n",
      "[7 6 9 8 5 5 3 5 5]\n",
      "[7 6 9 8 5 5 3 5 5]\n",
      "[7 6 9 8 5 5 3 5 5]\n",
      "1\n",
      "[7 6 9 8 1 1 3 1 1]\n",
      "[7 6 9 8 1 1 3 1 1]\n",
      "[7 6 9 8 1 1 3 1 1]\n",
      "[7 6 9 8 1 1 3 1 1]\n",
      "[7 6 9 8 1 1 3 1 1]\n",
      "[7 6 9 8 1 1 3 1 1]\n"
     ]
    }
   ],
   "source": [
    "import numpy as np\n",
    "import random\n",
    "\n",
    "first =  [7,6,9,8,0,0,3,0,0]\n",
    "second = [4,0,0,0,0,0,0,7,0]\n",
    "third =  [0,0,0,7,0,5,0,0,6]\n",
    "fourth = [0,9,0,0,7,0,0,0,2]\n",
    "fifth =  [0,0,3,0,7,0,0,0,2]\n",
    "sixth =  [6,0,0,0,8,0,0,4,0]\n",
    "seventh= [1,0,0,2,0,6,0,0,0]\n",
    "eighth = [0,3,0,0,0,0,0,0,4]\n",
    "ninth =  [0,0,2,0,0,8,7,6,1]\n",
    "\n",
    "bam = first+second+third+fourth+fifth+sixth+seventh+eighth+ninth\n",
    "sudoku1= np.array([bam]).reshape(9,9)\n",
    "\n",
    "\n",
    "nine = np.array([1,2,3,4,5,6,7,8,9])\n",
    "box = np.array([1,2,3,4,5,6,7,8,9]).reshape(3,3)\n",
    "\n",
    "boxes = []\n",
    "rows = []\n",
    "columns = []\n",
    "for row in range(len(sudoku1)):\n",
    "    rows.append(np.setdiff1d(nine, sudoku1[row]))\n",
    "    columns.append(np.setdiff1d(nine, sudoku1[:,row]))\n",
    "    for column in range(len(sudoku1)-2):\n",
    "        boxes.append(np.setdiff1d(box, sudoku1[0+row:row+3,0+column:column+3]))\n",
    "# for i in range(len(sudoku1)):\n",
    "#     for j in range(len(sudoku1)):\n",
    "#         if sudoku1[i][j] == 0:\n",
    "#             print(i,j)\n",
    "\n",
    "# for i in range(len(sudoku1)):\n",
    "#     for j in range(len(sudoku1)-2):\n",
    "#         #print(sudoku1[0+i:i+3,0+j:j+3])\n",
    "#         print(np.setdiff1d(box, sudoku1[0+i:i+3,0+j:j+3]))\n",
    "\n",
    "print(boxes)\n",
    "print(np.minimum([2, 3, 4], [1, 5, 2]))\n",
    "\n",
    "rows[0] = list(rows[0])\n",
    "for i in range(len(rows[0])):\n",
    "    random.shuffle(rows[0])\n",
    "    element = rows[0].pop()\n",
    "    print(element)\n",
    "    for j in range(len(sudoku1)):\n",
    "        if sudoku1[i][j] == 0:\n",
    "            print(np.where(sudoku1[0]==0, element, sudoku1[0]))\n",
    "\n",
    "#print(np.where(sudoku1[i][j]==0, random.choice(rows[0]), sudoku1[0]))\n",
    "#print(sudoku1)\n",
    "\n",
    "# for i in range(len(sudoku1)):\n",
    "#     for j in range(len(sudoku1)):\n",
    "#         if sudoku1[i][j] == 0:\n",
    "#             print(sudoku1[i][j])"
   ]
  },
  {
   "cell_type": "code",
   "execution_count": null,
   "metadata": {},
   "outputs": [],
   "source": []
  },
  {
   "cell_type": "code",
   "execution_count": null,
   "metadata": {},
   "outputs": [],
   "source": []
  }
 ],
 "metadata": {
  "kernelspec": {
   "display_name": "Python 3",
   "language": "python",
   "name": "python3"
  },
  "language_info": {
   "codemirror_mode": {
    "name": "ipython",
    "version": 3
   },
   "file_extension": ".py",
   "mimetype": "text/x-python",
   "name": "python",
   "nbconvert_exporter": "python",
   "pygments_lexer": "ipython3",
   "version": "3.7.3"
  }
 },
 "nbformat": 4,
 "nbformat_minor": 2
}
